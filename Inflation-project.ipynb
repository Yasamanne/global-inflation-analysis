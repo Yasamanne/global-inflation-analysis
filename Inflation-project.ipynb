{
 "cells": [
  {
   "cell_type": "code",
   "execution_count": 1,
   "id": "3078e45a-9402-417b-b32f-62c8f08dc991",
   "metadata": {
    "execution": {
     "iopub.execute_input": "2022-04-26T03:05:29.233662Z",
     "iopub.status.busy": "2022-04-26T03:05:29.233075Z",
     "iopub.status.idle": "2022-04-26T03:05:29.393881Z",
     "shell.execute_reply": "2022-04-26T03:05:29.392959Z",
     "shell.execute_reply.started": "2022-04-26T03:05:29.233582Z"
    },
    "tags": []
   },
   "outputs": [
    {
     "name": "stdout",
     "output_type": "stream",
     "text": [
      "/Users/yasamanemami/Documents/DATA-230 Sec 23 - Data Visualization/proj\n"
     ]
    }
   ],
   "source": [
    "!pwd"
   ]
  },
  {
   "cell_type": "code",
   "execution_count": 32,
   "id": "8279d659-8e11-4090-ba71-1c16db6bc150",
   "metadata": {
    "execution": {
     "iopub.execute_input": "2022-04-25T08:31:02.222611Z",
     "iopub.status.busy": "2022-04-25T08:31:02.222288Z",
     "iopub.status.idle": "2022-04-25T08:31:10.348138Z",
     "shell.execute_reply": "2022-04-25T08:31:10.347315Z",
     "shell.execute_reply.started": "2022-04-25T08:31:02.222579Z"
    },
    "tags": []
   },
   "outputs": [
    {
     "name": "stderr",
     "output_type": "stream",
     "text": [
      "/Users/yasamanemami/Documents/DATA-230 Sec 23 - Data Visualization/lib/python3.9/site-packages/xlsxwriter/workbook.py:339: UserWarning: Calling close() on already closed file.\n",
      "  warn(\"Calling close() on already closed file.\")\n"
     ]
    }
   ],
   "source": [
    "sheet_names = [\"hcpi_a\", \"fcpi_a\", \"ecpi_a\", \"ccpi_a\", \"ppi_a\", \"def_a\"]\n",
    "list_of_df = list()\n",
    "for i,name in enumerate(sheet_names):\n",
    "    df = pd.read_excel('Inflation-data.xlsx', sheet_name= name)\n",
    "    #df[name]=df[name]+str(i) ## You can remove str() if everything in form is already a string\n",
    "    list_of_df.append(df)\n",
    "writer = pd.ExcelWriter('annual.xlsx', engine = 'xlsxwriter')    \n",
    "for i,name in enumerate(sheet_names):\n",
    "    \n",
    "    df = list_of_df[i].melt(['Country Code', 'IMF Country Code', 'Country', 'Indicator Type', 'Series Name'], var_name='Year', value_name=name)\n",
    "    #df.to_excel('annual.xlsx', index=False, encoding='utf-8', sheet_name=name)\n",
    "    \n",
    "    df.to_excel(writer, sheet_name = name)\n",
    "writer.save()\n",
    "writer.close()"
   ]
  },
  {
   "cell_type": "code",
   "execution_count": 2,
   "id": "832e036b-c128-4050-a055-6e76ae078ab9",
   "metadata": {
    "execution": {
     "iopub.execute_input": "2022-05-01T19:42:35.434978Z",
     "iopub.status.busy": "2022-05-01T19:42:35.434464Z",
     "iopub.status.idle": "2022-05-01T19:43:00.363981Z",
     "shell.execute_reply": "2022-05-01T19:43:00.363177Z",
     "shell.execute_reply.started": "2022-05-01T19:42:35.434951Z"
    },
    "tags": []
   },
   "outputs": [],
   "source": [
    "import pandas as pd\n",
    "\n",
    "#df_M = pd.read_excel('Transformed_monthly.xlsx')\n",
    "#df_M = df_M.loc[:, ~df_M.columns.str.contains('^Unnamed')]\n",
    "df_Q = pd.read_excel('Transformed_quaterly.xlsx')\n",
    "df_Q = df_Q.loc[:, ~df_Q.columns.str.contains('^Unnamed')]\n",
    "df_Y = pd.read_excel('Transformed_annual.xlsx')\n",
    "df_Y = df_Y.loc[:, ~df_Y.columns.str.contains('^Unnamed')]"
   ]
  },
  {
   "cell_type": "code",
   "execution_count": 3,
   "id": "1b511b64-de94-4a2a-884d-1d8d93924e65",
   "metadata": {
    "execution": {
     "iopub.execute_input": "2022-05-01T19:43:03.665725Z",
     "iopub.status.busy": "2022-05-01T19:43:03.665199Z",
     "iopub.status.idle": "2022-05-01T19:43:03.671990Z",
     "shell.execute_reply": "2022-05-01T19:43:03.671308Z",
     "shell.execute_reply.started": "2022-05-01T19:43:03.665696Z"
    },
    "tags": []
   },
   "outputs": [],
   "source": [
    "df_Y[\"income\"] = 'other'\n",
    "df_Q[\"income\"] = 'other'"
   ]
  },
  {
   "cell_type": "code",
   "execution_count": 4,
   "id": "8637f4a4-97e0-4a6b-99f9-e8918632fc37",
   "metadata": {
    "execution": {
     "iopub.execute_input": "2022-05-01T19:43:06.463096Z",
     "iopub.status.busy": "2022-05-01T19:43:06.462742Z",
     "iopub.status.idle": "2022-05-01T19:43:06.620029Z",
     "shell.execute_reply": "2022-05-01T19:43:06.619226Z",
     "shell.execute_reply.started": "2022-05-01T19:43:06.463061Z"
    },
    "tags": []
   },
   "outputs": [],
   "source": [
    "# df_M[\"Country\"] = df_M[\"Country\"].str.lower().str.strip()\n",
    "df_Q[\"Country\"] = df_Q[\"Country\"].str.lower().str.strip()\n",
    "df_Y[\"Country\"] = df_Y[\"Country\"].str.lower().str.strip()"
   ]
  },
  {
   "cell_type": "code",
   "execution_count": 49,
   "id": "51db60b3-77aa-4d0a-9210-cf4071e3ec48",
   "metadata": {
    "execution": {
     "iopub.execute_input": "2022-04-27T19:02:10.688393Z",
     "iopub.status.busy": "2022-04-27T19:02:10.687819Z",
     "iopub.status.idle": "2022-04-27T19:02:10.694499Z",
     "shell.execute_reply": "2022-04-27T19:02:10.691977Z",
     "shell.execute_reply.started": "2022-04-27T19:02:10.688317Z"
    },
    "tags": []
   },
   "outputs": [],
   "source": [
    "# df_M[\"income\"].unique()"
   ]
  },
  {
   "cell_type": "code",
   "execution_count": 50,
   "id": "329042df-454d-4701-b5cb-1a16738cbca5",
   "metadata": {
    "execution": {
     "iopub.execute_input": "2022-04-27T19:02:10.698050Z",
     "iopub.status.busy": "2022-04-27T19:02:10.697584Z",
     "iopub.status.idle": "2022-04-27T19:02:10.702006Z",
     "shell.execute_reply": "2022-04-27T19:02:10.700699Z",
     "shell.execute_reply.started": "2022-04-27T19:02:10.697986Z"
    },
    "tags": []
   },
   "outputs": [],
   "source": [
    "# df_M.head()"
   ]
  },
  {
   "cell_type": "code",
   "execution_count": 5,
   "id": "02dcfef7-f973-4087-b963-0741e1103cf2",
   "metadata": {
    "execution": {
     "iopub.execute_input": "2022-05-01T19:43:12.778251Z",
     "iopub.status.busy": "2022-05-01T19:43:12.775698Z",
     "iopub.status.idle": "2022-05-01T19:43:12.833502Z",
     "shell.execute_reply": "2022-05-01T19:43:12.831728Z",
     "shell.execute_reply.started": "2022-05-01T19:43:12.778194Z"
    },
    "tags": []
   },
   "outputs": [
    {
     "data": {
      "text/html": [
       "<div>\n",
       "<style scoped>\n",
       "    .dataframe tbody tr th:only-of-type {\n",
       "        vertical-align: middle;\n",
       "    }\n",
       "\n",
       "    .dataframe tbody tr th {\n",
       "        vertical-align: top;\n",
       "    }\n",
       "\n",
       "    .dataframe thead th {\n",
       "        text-align: right;\n",
       "    }\n",
       "</style>\n",
       "<table border=\"1\" class=\"dataframe\">\n",
       "  <thead>\n",
       "    <tr style=\"text-align: right;\">\n",
       "      <th></th>\n",
       "      <th>Country Code</th>\n",
       "      <th>IMF Country Code</th>\n",
       "      <th>Country</th>\n",
       "      <th>Indicator Type</th>\n",
       "      <th>Series Name</th>\n",
       "      <th>Year</th>\n",
       "      <th>annual_metric</th>\n",
       "      <th>income</th>\n",
       "    </tr>\n",
       "  </thead>\n",
       "  <tbody>\n",
       "    <tr>\n",
       "      <th>0</th>\n",
       "      <td>ABW</td>\n",
       "      <td>314</td>\n",
       "      <td>aruba</td>\n",
       "      <td>Inflation</td>\n",
       "      <td>Headline Consumer Price Inflation</td>\n",
       "      <td>1970</td>\n",
       "      <td>0.000000</td>\n",
       "      <td>other</td>\n",
       "    </tr>\n",
       "    <tr>\n",
       "      <th>1</th>\n",
       "      <td>AFG</td>\n",
       "      <td>512</td>\n",
       "      <td>afghanistan</td>\n",
       "      <td>Inflation</td>\n",
       "      <td>Headline Consumer Price Inflation</td>\n",
       "      <td>1970</td>\n",
       "      <td>25.510000</td>\n",
       "      <td>other</td>\n",
       "    </tr>\n",
       "    <tr>\n",
       "      <th>2</th>\n",
       "      <td>AGO</td>\n",
       "      <td>614</td>\n",
       "      <td>angola</td>\n",
       "      <td>Inflation</td>\n",
       "      <td>Headline Consumer Price Inflation</td>\n",
       "      <td>1970</td>\n",
       "      <td>7.970000</td>\n",
       "      <td>other</td>\n",
       "    </tr>\n",
       "    <tr>\n",
       "      <th>3</th>\n",
       "      <td>ALB</td>\n",
       "      <td>914</td>\n",
       "      <td>albania</td>\n",
       "      <td>Inflation</td>\n",
       "      <td>Headline Consumer Price Inflation</td>\n",
       "      <td>1970</td>\n",
       "      <td>0.000000</td>\n",
       "      <td>other</td>\n",
       "    </tr>\n",
       "    <tr>\n",
       "      <th>4</th>\n",
       "      <td>ARE</td>\n",
       "      <td>466</td>\n",
       "      <td>united arab emirates</td>\n",
       "      <td>Inflation</td>\n",
       "      <td>Headline Consumer Price Inflation</td>\n",
       "      <td>1970</td>\n",
       "      <td>21.984699</td>\n",
       "      <td>other</td>\n",
       "    </tr>\n",
       "  </tbody>\n",
       "</table>\n",
       "</div>"
      ],
      "text/plain": [
       "  Country Code  IMF Country Code               Country Indicator Type  \\\n",
       "0          ABW               314                 aruba      Inflation   \n",
       "1          AFG               512           afghanistan      Inflation   \n",
       "2          AGO               614                angola      Inflation   \n",
       "3          ALB               914               albania      Inflation   \n",
       "4          ARE               466  united arab emirates      Inflation   \n",
       "\n",
       "                         Series Name  Year  annual_metric income  \n",
       "0  Headline Consumer Price Inflation  1970       0.000000  other  \n",
       "1  Headline Consumer Price Inflation  1970      25.510000  other  \n",
       "2  Headline Consumer Price Inflation  1970       7.970000  other  \n",
       "3  Headline Consumer Price Inflation  1970       0.000000  other  \n",
       "4  Headline Consumer Price Inflation  1970      21.984699  other  "
      ]
     },
     "execution_count": 5,
     "metadata": {},
     "output_type": "execute_result"
    }
   ],
   "source": [
    "df_Y.head()"
   ]
  },
  {
   "cell_type": "code",
   "execution_count": 6,
   "id": "c007f149-08e3-4502-aa34-c6f5bc3e3263",
   "metadata": {
    "execution": {
     "iopub.execute_input": "2022-05-01T19:43:19.524104Z",
     "iopub.status.busy": "2022-05-01T19:43:19.523521Z",
     "iopub.status.idle": "2022-05-01T19:43:19.539420Z",
     "shell.execute_reply": "2022-05-01T19:43:19.538405Z",
     "shell.execute_reply.started": "2022-05-01T19:43:19.524074Z"
    },
    "tags": []
   },
   "outputs": [
    {
     "data": {
      "text/html": [
       "<div>\n",
       "<style scoped>\n",
       "    .dataframe tbody tr th:only-of-type {\n",
       "        vertical-align: middle;\n",
       "    }\n",
       "\n",
       "    .dataframe tbody tr th {\n",
       "        vertical-align: top;\n",
       "    }\n",
       "\n",
       "    .dataframe thead th {\n",
       "        text-align: right;\n",
       "    }\n",
       "</style>\n",
       "<table border=\"1\" class=\"dataframe\">\n",
       "  <thead>\n",
       "    <tr style=\"text-align: right;\">\n",
       "      <th></th>\n",
       "      <th>Country Code</th>\n",
       "      <th>IMF Country Code</th>\n",
       "      <th>Country</th>\n",
       "      <th>Indicator Type</th>\n",
       "      <th>Series Name</th>\n",
       "      <th>Year</th>\n",
       "      <th>quaterly_metric</th>\n",
       "      <th>income</th>\n",
       "    </tr>\n",
       "  </thead>\n",
       "  <tbody>\n",
       "    <tr>\n",
       "      <th>0</th>\n",
       "      <td>ABW</td>\n",
       "      <td>314</td>\n",
       "      <td>aruba</td>\n",
       "      <td>index</td>\n",
       "      <td>Headline Consumer Price Index</td>\n",
       "      <td>19701</td>\n",
       "      <td>0.0</td>\n",
       "      <td>other</td>\n",
       "    </tr>\n",
       "    <tr>\n",
       "      <th>1</th>\n",
       "      <td>AFG</td>\n",
       "      <td>512</td>\n",
       "      <td>afghanistan</td>\n",
       "      <td>index</td>\n",
       "      <td>Headline Consumer Price Index</td>\n",
       "      <td>19701</td>\n",
       "      <td>0.0</td>\n",
       "      <td>other</td>\n",
       "    </tr>\n",
       "    <tr>\n",
       "      <th>2</th>\n",
       "      <td>AGO</td>\n",
       "      <td>614</td>\n",
       "      <td>angola</td>\n",
       "      <td>index</td>\n",
       "      <td>Headline Consumer Price Index</td>\n",
       "      <td>19701</td>\n",
       "      <td>0.0</td>\n",
       "      <td>other</td>\n",
       "    </tr>\n",
       "    <tr>\n",
       "      <th>3</th>\n",
       "      <td>ALB</td>\n",
       "      <td>914</td>\n",
       "      <td>albania</td>\n",
       "      <td>index</td>\n",
       "      <td>Headline Consumer Price Index</td>\n",
       "      <td>19701</td>\n",
       "      <td>0.0</td>\n",
       "      <td>other</td>\n",
       "    </tr>\n",
       "    <tr>\n",
       "      <th>4</th>\n",
       "      <td>ARE</td>\n",
       "      <td>466</td>\n",
       "      <td>united arab emirates</td>\n",
       "      <td>index</td>\n",
       "      <td>Headline Consumer Price Index</td>\n",
       "      <td>19701</td>\n",
       "      <td>0.0</td>\n",
       "      <td>other</td>\n",
       "    </tr>\n",
       "  </tbody>\n",
       "</table>\n",
       "</div>"
      ],
      "text/plain": [
       "  Country Code  IMF Country Code               Country Indicator Type  \\\n",
       "0          ABW               314                 aruba          index   \n",
       "1          AFG               512           afghanistan          index   \n",
       "2          AGO               614                angola          index   \n",
       "3          ALB               914               albania          index   \n",
       "4          ARE               466  united arab emirates          index   \n",
       "\n",
       "                     Series Name   Year  quaterly_metric income  \n",
       "0  Headline Consumer Price Index  19701              0.0  other  \n",
       "1  Headline Consumer Price Index  19701              0.0  other  \n",
       "2  Headline Consumer Price Index  19701              0.0  other  \n",
       "3  Headline Consumer Price Index  19701              0.0  other  \n",
       "4  Headline Consumer Price Index  19701              0.0  other  "
      ]
     },
     "execution_count": 6,
     "metadata": {},
     "output_type": "execute_result"
    }
   ],
   "source": [
    "df_Q.head()"
   ]
  },
  {
   "cell_type": "code",
   "execution_count": 7,
   "id": "7313175d-7ada-49c0-8e8b-0f4612732b9e",
   "metadata": {
    "execution": {
     "iopub.execute_input": "2022-05-01T19:43:35.090339Z",
     "iopub.status.busy": "2022-05-01T19:43:35.089930Z",
     "iopub.status.idle": "2022-05-01T19:43:35.097776Z",
     "shell.execute_reply": "2022-05-01T19:43:35.096454Z",
     "shell.execute_reply.started": "2022-05-01T19:43:35.090294Z"
    },
    "tags": []
   },
   "outputs": [],
   "source": [
    "LIC = ['Afghanistan', 'Guinea-Bissau',\t'Somalia',\n",
    "'Burkina Faso', 'Korea, Dem. People Rep','South Sudan','Burundi','Liberia','Sudan',\n",
    "'Central African Republic','Madagascar', 'Syrian Arab Republic',\n",
    "'Chad',\t'Malawi',\t'Togo',\n",
    "'Congo, Dem. Rep.',\t'Mali',\t'Uganda',\n",
    "'Eritrea','Mozambique' ,'Yemen, Rep.',\n",
    "'Ethiopia','Niger',\t\n",
    "'Gambia, The',\t'Rwanda',\t\n",
    "'Guinea','Sierra Leone']\n",
    "LIC = [country.lower().strip() for country in LIC]"
   ]
  },
  {
   "cell_type": "code",
   "execution_count": 8,
   "id": "171a7003-4450-48a3-9c53-162d9069bda7",
   "metadata": {
    "execution": {
     "iopub.execute_input": "2022-05-01T19:43:35.538868Z",
     "iopub.status.busy": "2022-05-01T19:43:35.538545Z",
     "iopub.status.idle": "2022-05-01T19:43:35.545253Z",
     "shell.execute_reply": "2022-05-01T19:43:35.544555Z",
     "shell.execute_reply.started": "2022-05-01T19:43:35.538834Z"
    },
    "tags": []
   },
   "outputs": [],
   "source": [
    "low_med = [ 'Angola','Honduras',\t'Philippines','Algeria',\t'India',\t'Samoa','Bangladesh',\t'Indonesia',\n",
    "'São Tomé and Principe', 'sao tome and principe', 'sã£o tomã© and principe', 'Belize',\t'Iran, Islamic Rep.',\t'Senegal',\n",
    "'Benin',\t'Kenya',\t'Solomon Islands', \n",
    "'Bhutan',\t'Kiribati'\t,'Sri Lanka',\n",
    "'Bolivia',\t'Kyrgyz Republic'\t,'Tanzania, united rep.',\n",
    "'Cabo Verde',\t'Lao, PDR', 'Lao PDR',\t'Tajikistan',\n",
    "'Cambodia',\t'Lesotho'\t,'Timor-Leste',\n",
    "'Cameroon',\t'Mauritania'\t,'Tunisia',\n",
    "'Comoros',\t'Micronesia, Fed. Sts.'\t,'Ukraine',\n",
    "'Congo, Rep.',\t'Mongolia',\t'Uzbekistan',\n",
    "'Côte d\\'Ivoire', 'cã´te d\\'ivoire',\t'Morocco',\t'Vanuatu',\n",
    "'Djibouti',\t'Myanmar',\t'Vietnam',\n",
    "'Egypt, Arab Rep.',\t'Nepal',\t'West Bank and Gaza',\n",
    "'El Salvador',\t'Nicaragua',\t'Zambia',\n",
    "'Eswatini',\t'Nigeria',\t'Zimbabwe',\n",
    "'Ghana',\t'Pakistan',\t\n",
    "'Haiti',\t'Papua New Guinea', 'cote d\\'ivoire'\t]\n",
    "low_med = [country.lower().strip() for country in low_med]"
   ]
  },
  {
   "cell_type": "code",
   "execution_count": 9,
   "id": "978f44eb-b812-4980-9a16-afdaae5a7fab",
   "metadata": {
    "execution": {
     "iopub.execute_input": "2022-05-01T19:43:36.061452Z",
     "iopub.status.busy": "2022-05-01T19:43:36.061141Z",
     "iopub.status.idle": "2022-05-01T19:43:36.067237Z",
     "shell.execute_reply": "2022-05-01T19:43:36.066498Z",
     "shell.execute_reply.started": "2022-05-01T19:43:36.061422Z"
    },
    "tags": []
   },
   "outputs": [],
   "source": [
    "up_med = ['Albania',\t'Gabon',\t'Namibia',\n",
    "'American Samoa',\t'Georgia',\t'North Macedonia',\n",
    "'Argentina',\t'Grenada',\n",
    "'Panama',\n",
    "'Armenia',\t'Guatemala',\n",
    "'Paraguay',\n",
    "'Azerbaijan',\t'Guyana',\n",
    "'Peru',  \n",
    "'Belarus',\t'Iraq',\t'Romania',\n",
    "'Bosnia and Herzegovina' , \t'Jamaica',\n",
    "'Russian Federation',\n",
    "'Botswana'\t,'Jordan'\t,'Serbia',\n",
    "'Brazil',\n",
    "'Kazakhstan'\t,'South Africa',\n",
    "'Bulgaria',\n",
    "'Kosovo',\t'St. Lucia',\n",
    "'China',\n",
    "'Lebanon',\t'St. Vincent and the Grenadines',\n",
    "'Colombia',\n",
    "'Libya'\t,'Suriname',\n",
    "'Costa Rica' ,\n",
    "'Malaysia'\t,'Thailand',\n",
    "'Cuba',\t'Maldives',\t'Tonga',\n",
    "'Dominica',\n",
    "'Marshall Islands',\t'Turkey',\n",
    "'Dominican Republic'  , \n",
    "'Mauritius'\t,'Turkmenistan',\n",
    "'Equatorial Guinea'  ,\t'Mexico',\t'Tuvalu',\n",
    "'Ecuador',\t'Moldova, rep.',\t\n",
    "'Fiji'\t,'Montenegro','venezuela, rb'\t]\n",
    "up_med = [country.lower().strip() for country in up_med]"
   ]
  },
  {
   "cell_type": "code",
   "execution_count": 10,
   "id": "a6704d04-86ee-4d85-9f31-f66a664b07c9",
   "metadata": {
    "execution": {
     "iopub.execute_input": "2022-05-01T19:43:36.586352Z",
     "iopub.status.busy": "2022-05-01T19:43:36.585830Z",
     "iopub.status.idle": "2022-05-01T19:43:36.595301Z",
     "shell.execute_reply": "2022-05-01T19:43:36.594244Z",
     "shell.execute_reply.started": "2022-05-01T19:43:36.586313Z"
    },
    "tags": []
   },
   "outputs": [],
   "source": [
    "EMDE = ['Angola','Honduras',\t'Philippines','Algeria',\t'India',\t'Samoa','Bangladesh',\t'Indonesia',\n",
    "'São Tomé and Principe', 'sao tome and principe', 'sã£o tomã© and principe', 'Belize',\t'Iran, Islamic Rep.',\t'Senegal',\n",
    "'Benin',\t'Kenya',\t'Solomon Islands', \n",
    "'Bhutan',\t'Kiribati'\t,'Sri Lanka',\n",
    "'Bolivia',\t'Kyrgyz Republic'\t,'Tanzania, united rep.',\n",
    "'Cabo Verde',\t'Lao, PDR', 'Lao PDR',\t'Tajikistan',\n",
    "'Cambodia',\t'Lesotho'\t,'Timor-Leste',\n",
    "'Cameroon',\t'Mauritania'\t,'Tunisia',\n",
    "'Comoros',\t'Micronesia, Fed. Sts.'\t,'Ukraine',\n",
    "'Congo, Rep.',\t'Mongolia',\t'Uzbekistan',\n",
    "'Côte d\\'Ivoire', 'cã´te d\\'ivoire',\t'Morocco',\t'Vanuatu',\n",
    "'Djibouti',\t'Myanmar',\t'Vietnam',\n",
    "'Egypt, Arab Rep.',\t'Nepal',\t'West Bank and Gaza',\n",
    "'El Salvador',\t'Nicaragua',\t'Zambia',\n",
    "'Eswatini',\t'Nigeria',\t'Zimbabwe',\n",
    "'Ghana',\t'Pakistan',\t\n",
    "'Haiti',\t'Papua New Guinea', 'Albania',\t'Gabon',\t'Namibia',\n",
    "'American Samoa',\t'Georgia',\t'North Macedonia',\n",
    "'Argentina',\t'Grenada',\n",
    "'Panama',\n",
    "'Armenia',\t'Guatemala',\n",
    "'Paraguay',\n",
    "'Azerbaijan',\t'Guyana',\n",
    "'Peru',  \n",
    "'Belarus',\t'Iraq',\t'Romania',\n",
    "'Bosnia and Herzegovina' , \t'Jamaica',\n",
    "'Russian Federation',\n",
    "'Botswana'\t,'Jordan'\t,'Serbia',\n",
    "'Brazil',\n",
    "'Kazakhstan'\t,'South Africa',\n",
    "'Bulgaria',\n",
    "'Kosovo',\t'St. Lucia',\n",
    "'China',\n",
    "'Lebanon',\t'St. Vincent and the Grenadines',\n",
    "'Colombia',\n",
    "'Libya'\t,'Suriname', 'macedonia, fyr',\n",
    "'Costa Rica' ,\n",
    "'Malaysia'\t,'Thailand',\n",
    "'Cuba',\t'Maldives',\t'Tonga',\n",
    "'Dominica',\n",
    "'Marshall Islands',\t'Turkey',\n",
    "'Dominican Republic'  , \n",
    "'Mauritius'\t,'Turkmenistan',\n",
    "'Equatorial Guinea'  ,\t'Mexico',\t'Tuvalu', 'tanzania',\n",
    "'Ecuador',\t'Moldova, rep.',\t'moldova',\n",
    "'Fiji'\t,'Montenegro','venezuela, rb', 'cote d\\'ivoire']\n",
    "EMDE = [country.lower().strip() for country in EMDE]"
   ]
  },
  {
   "cell_type": "code",
   "execution_count": 11,
   "id": "e07bdd06-7a9f-4359-bc42-2421ead76c1f",
   "metadata": {
    "execution": {
     "iopub.execute_input": "2022-05-01T19:43:37.129461Z",
     "iopub.status.busy": "2022-05-01T19:43:37.129118Z",
     "iopub.status.idle": "2022-05-01T19:43:37.137858Z",
     "shell.execute_reply": "2022-05-01T19:43:37.136815Z",
     "shell.execute_reply.started": "2022-05-01T19:43:37.129428Z"
    },
    "tags": []
   },
   "outputs": [],
   "source": [
    "Advanced = ['Andorra',\t'Greece',\t'Poland',\n",
    "'Antigua and Barbuda',\t'Greenland'\t,'Portugal',\n",
    "'Aruba',\t'Guam'\t,'Puerto Rico',\n",
    "'Australia',\t'Hong Kong SAR, China'\t,'Qatar',\n",
    "'Austria'\t,'Hungary'\t,'San Marino',\n",
    "'Bahamas, The',\t'Bahamas','Iceland',\t'Saudi Arabia',\n",
    "'Bahrain'\t,'Ireland'\t,'Seychelles',\n",
    "'Barbados',\t'Isle of Man',\t'Singapore',\n",
    "'Belgium'\t,'Israel'\t,'Sint Maarten (Dutch part)',\n",
    "'Bermuda'\t,'Italy',\t'Slovak Republic',\n",
    "'British Virgin Islands',\t'Japan'\t,'Slovenia',\n",
    "'Brunei Darussalam'\t,'Korea, Rep.',\t'Spain',\n",
    "'Canada',\t'Kuwait',\t'St. Kitts and Nevis',\n",
    "'Cayman Islands',\t'Latvia',\t'St. Martin (French part)',\n",
    "'Channel Islands',\t'Liechtenstein'\t,'Sweden',\n",
    "'Chile'\t,'Lithuania'\t,'Switzerland',\n",
    "'Croatia',\t'Luxembourg',\t'Taiwan, China',\n",
    "'Curaçao',\t'Macao SAR, China',\t'Trinidad and Tobago',\n",
    "'Cyprus',\t'Malta',\t'Turks and Caicos Islands',\n",
    "'Czech Republic',\t'Monaco',\n",
    "'United Arab Emirates', 'swaziland',\n",
    "'Denmark'\t,'Nauru',\n",
    "'United Kingdom',\n",
    "'Estonia'\t,'Netherlands', 'netherlands antilles',\n",
    "'United States',\n",
    "'Faroe Islands'\t,'New Caledonia'  ,\n",
    "'Uruguay',\n",
    "'Finland'\t,'New Zealand' , \t'Virgin Islands (U.S.)',\n",
    "'France'\t,'Northern Mariana Islands',\n",
    "  \t\n",
    "'French Polynesia',\t'Norway',\n",
    "  \t\n",
    "'Germany'\t,'Oman'  ,\t'hong kong sar',\n",
    "'Gibraltar',\t'Palau', 'slovakia', 'curacao', 'taiwan province of china']\n",
    "Advanced = [country.lower().strip() for country in Advanced]"
   ]
  },
  {
   "cell_type": "code",
   "execution_count": 12,
   "id": "26fd3a4d-0c81-4481-a01d-e36dded3d241",
   "metadata": {
    "execution": {
     "iopub.execute_input": "2022-05-01T19:43:56.863088Z",
     "iopub.status.busy": "2022-05-01T19:43:56.862536Z",
     "iopub.status.idle": "2022-05-01T19:43:56.902432Z",
     "shell.execute_reply": "2022-05-01T19:43:56.901442Z",
     "shell.execute_reply.started": "2022-05-01T19:43:56.863042Z"
    },
    "tags": []
   },
   "outputs": [
    {
     "data": {
      "text/plain": [
       "Series([], Name: Country, dtype: int64)"
      ]
     },
     "execution_count": 12,
     "metadata": {},
     "output_type": "execute_result"
    }
   ],
   "source": [
    "df_Y.query(\"income == 'income'\")['Country'].value_counts()\n",
    "df_Q.query(\"income == 'income'\")['Country'].value_counts()"
   ]
  },
  {
   "cell_type": "code",
   "execution_count": 13,
   "id": "5c9a8977-b2aa-438d-80f8-810efb1a0276",
   "metadata": {
    "execution": {
     "iopub.execute_input": "2022-05-01T19:44:00.686351Z",
     "iopub.status.busy": "2022-05-01T19:44:00.685957Z",
     "iopub.status.idle": "2022-05-01T19:44:00.696678Z",
     "shell.execute_reply": "2022-05-01T19:44:00.695789Z",
     "shell.execute_reply.started": "2022-05-01T19:44:00.686320Z"
    },
    "tags": []
   },
   "outputs": [
    {
     "data": {
      "text/plain": [
       "array(['other'], dtype=object)"
      ]
     },
     "execution_count": 13,
     "metadata": {},
     "output_type": "execute_result"
    }
   ],
   "source": [
    "df_Y[\"income\"].unique()"
   ]
  },
  {
   "cell_type": "code",
   "execution_count": 60,
   "id": "0168260e-b9d2-4119-b3a8-56553a766ad6",
   "metadata": {
    "execution": {
     "iopub.execute_input": "2022-04-27T19:02:10.879198Z",
     "iopub.status.busy": "2022-04-27T19:02:10.878660Z",
     "iopub.status.idle": "2022-04-27T19:02:10.882624Z",
     "shell.execute_reply": "2022-04-27T19:02:10.881716Z",
     "shell.execute_reply.started": "2022-04-27T19:02:10.879167Z"
    },
    "tags": []
   },
   "outputs": [],
   "source": [
    "#df_M.head()"
   ]
  },
  {
   "cell_type": "code",
   "execution_count": 61,
   "id": "83c15bd0-5cce-4d60-9015-e402b1103593",
   "metadata": {
    "execution": {
     "iopub.execute_input": "2022-04-27T19:02:10.884055Z",
     "iopub.status.busy": "2022-04-27T19:02:10.883753Z",
     "iopub.status.idle": "2022-04-27T19:02:10.902276Z",
     "shell.execute_reply": "2022-04-27T19:02:10.901115Z",
     "shell.execute_reply.started": "2022-04-27T19:02:10.884025Z"
    },
    "tags": []
   },
   "outputs": [
    {
     "data": {
      "text/html": [
       "<div>\n",
       "<style scoped>\n",
       "    .dataframe tbody tr th:only-of-type {\n",
       "        vertical-align: middle;\n",
       "    }\n",
       "\n",
       "    .dataframe tbody tr th {\n",
       "        vertical-align: top;\n",
       "    }\n",
       "\n",
       "    .dataframe thead th {\n",
       "        text-align: right;\n",
       "    }\n",
       "</style>\n",
       "<table border=\"1\" class=\"dataframe\">\n",
       "  <thead>\n",
       "    <tr style=\"text-align: right;\">\n",
       "      <th></th>\n",
       "      <th>Country Code</th>\n",
       "      <th>IMF Country Code</th>\n",
       "      <th>Country</th>\n",
       "      <th>Indicator Type</th>\n",
       "      <th>Series Name</th>\n",
       "      <th>Year</th>\n",
       "      <th>quaterly_metric</th>\n",
       "      <th>income</th>\n",
       "    </tr>\n",
       "  </thead>\n",
       "  <tbody>\n",
       "    <tr>\n",
       "      <th>0</th>\n",
       "      <td>ABW</td>\n",
       "      <td>314</td>\n",
       "      <td>aruba</td>\n",
       "      <td>index</td>\n",
       "      <td>Headline Consumer Price Index</td>\n",
       "      <td>19701</td>\n",
       "      <td>0.0</td>\n",
       "      <td>other</td>\n",
       "    </tr>\n",
       "    <tr>\n",
       "      <th>1</th>\n",
       "      <td>AFG</td>\n",
       "      <td>512</td>\n",
       "      <td>afghanistan</td>\n",
       "      <td>index</td>\n",
       "      <td>Headline Consumer Price Index</td>\n",
       "      <td>19701</td>\n",
       "      <td>0.0</td>\n",
       "      <td>other</td>\n",
       "    </tr>\n",
       "    <tr>\n",
       "      <th>2</th>\n",
       "      <td>AGO</td>\n",
       "      <td>614</td>\n",
       "      <td>angola</td>\n",
       "      <td>index</td>\n",
       "      <td>Headline Consumer Price Index</td>\n",
       "      <td>19701</td>\n",
       "      <td>0.0</td>\n",
       "      <td>other</td>\n",
       "    </tr>\n",
       "    <tr>\n",
       "      <th>3</th>\n",
       "      <td>ALB</td>\n",
       "      <td>914</td>\n",
       "      <td>albania</td>\n",
       "      <td>index</td>\n",
       "      <td>Headline Consumer Price Index</td>\n",
       "      <td>19701</td>\n",
       "      <td>0.0</td>\n",
       "      <td>other</td>\n",
       "    </tr>\n",
       "    <tr>\n",
       "      <th>4</th>\n",
       "      <td>ARE</td>\n",
       "      <td>466</td>\n",
       "      <td>united arab emirates</td>\n",
       "      <td>index</td>\n",
       "      <td>Headline Consumer Price Index</td>\n",
       "      <td>19701</td>\n",
       "      <td>0.0</td>\n",
       "      <td>other</td>\n",
       "    </tr>\n",
       "  </tbody>\n",
       "</table>\n",
       "</div>"
      ],
      "text/plain": [
       "  Country Code  IMF Country Code               Country Indicator Type  \\\n",
       "0          ABW               314                 aruba          index   \n",
       "1          AFG               512           afghanistan          index   \n",
       "2          AGO               614                angola          index   \n",
       "3          ALB               914               albania          index   \n",
       "4          ARE               466  united arab emirates          index   \n",
       "\n",
       "                     Series Name   Year  quaterly_metric income  \n",
       "0  Headline Consumer Price Index  19701              0.0  other  \n",
       "1  Headline Consumer Price Index  19701              0.0  other  \n",
       "2  Headline Consumer Price Index  19701              0.0  other  \n",
       "3  Headline Consumer Price Index  19701              0.0  other  \n",
       "4  Headline Consumer Price Index  19701              0.0  other  "
      ]
     },
     "execution_count": 61,
     "metadata": {},
     "output_type": "execute_result"
    }
   ],
   "source": [
    "df_Q.head()"
   ]
  },
  {
   "cell_type": "code",
   "execution_count": 62,
   "id": "84030d87-de3f-4a89-a63d-30366dd6dbc9",
   "metadata": {
    "execution": {
     "iopub.execute_input": "2022-04-27T19:02:10.903708Z",
     "iopub.status.busy": "2022-04-27T19:02:10.903374Z",
     "iopub.status.idle": "2022-04-27T19:02:10.916147Z",
     "shell.execute_reply": "2022-04-27T19:02:10.915441Z",
     "shell.execute_reply.started": "2022-04-27T19:02:10.903677Z"
    },
    "tags": []
   },
   "outputs": [
    {
     "data": {
      "text/html": [
       "<div>\n",
       "<style scoped>\n",
       "    .dataframe tbody tr th:only-of-type {\n",
       "        vertical-align: middle;\n",
       "    }\n",
       "\n",
       "    .dataframe tbody tr th {\n",
       "        vertical-align: top;\n",
       "    }\n",
       "\n",
       "    .dataframe thead th {\n",
       "        text-align: right;\n",
       "    }\n",
       "</style>\n",
       "<table border=\"1\" class=\"dataframe\">\n",
       "  <thead>\n",
       "    <tr style=\"text-align: right;\">\n",
       "      <th></th>\n",
       "      <th>Country Code</th>\n",
       "      <th>IMF Country Code</th>\n",
       "      <th>Country</th>\n",
       "      <th>Indicator Type</th>\n",
       "      <th>Series Name</th>\n",
       "      <th>Year</th>\n",
       "      <th>annual_metric</th>\n",
       "    </tr>\n",
       "  </thead>\n",
       "  <tbody>\n",
       "    <tr>\n",
       "      <th>0</th>\n",
       "      <td>ABW</td>\n",
       "      <td>314</td>\n",
       "      <td>aruba</td>\n",
       "      <td>Inflation</td>\n",
       "      <td>Headline Consumer Price Inflation</td>\n",
       "      <td>1970</td>\n",
       "      <td>0.000000</td>\n",
       "    </tr>\n",
       "    <tr>\n",
       "      <th>1</th>\n",
       "      <td>AFG</td>\n",
       "      <td>512</td>\n",
       "      <td>afghanistan</td>\n",
       "      <td>Inflation</td>\n",
       "      <td>Headline Consumer Price Inflation</td>\n",
       "      <td>1970</td>\n",
       "      <td>25.510000</td>\n",
       "    </tr>\n",
       "    <tr>\n",
       "      <th>2</th>\n",
       "      <td>AGO</td>\n",
       "      <td>614</td>\n",
       "      <td>angola</td>\n",
       "      <td>Inflation</td>\n",
       "      <td>Headline Consumer Price Inflation</td>\n",
       "      <td>1970</td>\n",
       "      <td>7.970000</td>\n",
       "    </tr>\n",
       "    <tr>\n",
       "      <th>3</th>\n",
       "      <td>ALB</td>\n",
       "      <td>914</td>\n",
       "      <td>albania</td>\n",
       "      <td>Inflation</td>\n",
       "      <td>Headline Consumer Price Inflation</td>\n",
       "      <td>1970</td>\n",
       "      <td>0.000000</td>\n",
       "    </tr>\n",
       "    <tr>\n",
       "      <th>4</th>\n",
       "      <td>ARE</td>\n",
       "      <td>466</td>\n",
       "      <td>united arab emirates</td>\n",
       "      <td>Inflation</td>\n",
       "      <td>Headline Consumer Price Inflation</td>\n",
       "      <td>1970</td>\n",
       "      <td>21.984699</td>\n",
       "    </tr>\n",
       "  </tbody>\n",
       "</table>\n",
       "</div>"
      ],
      "text/plain": [
       "  Country Code  IMF Country Code               Country Indicator Type  \\\n",
       "0          ABW               314                 aruba      Inflation   \n",
       "1          AFG               512           afghanistan      Inflation   \n",
       "2          AGO               614                angola      Inflation   \n",
       "3          ALB               914               albania      Inflation   \n",
       "4          ARE               466  united arab emirates      Inflation   \n",
       "\n",
       "                         Series Name  Year  annual_metric  \n",
       "0  Headline Consumer Price Inflation  1970       0.000000  \n",
       "1  Headline Consumer Price Inflation  1970      25.510000  \n",
       "2  Headline Consumer Price Inflation  1970       7.970000  \n",
       "3  Headline Consumer Price Inflation  1970       0.000000  \n",
       "4  Headline Consumer Price Inflation  1970      21.984699  "
      ]
     },
     "execution_count": 62,
     "metadata": {},
     "output_type": "execute_result"
    }
   ],
   "source": [
    "df_Y.head()"
   ]
  },
  {
   "cell_type": "code",
   "execution_count": 65,
   "id": "c51eff1f-38ab-43c7-b472-e48fcccf1c85",
   "metadata": {
    "execution": {
     "iopub.execute_input": "2022-04-27T19:03:38.610930Z",
     "iopub.status.busy": "2022-04-27T19:03:38.610526Z",
     "iopub.status.idle": "2022-04-27T19:03:38.623992Z",
     "shell.execute_reply": "2022-04-27T19:03:38.622983Z",
     "shell.execute_reply.started": "2022-04-27T19:03:38.610887Z"
    },
    "tags": []
   },
   "outputs": [
    {
     "data": {
      "text/plain": [
       "array(['other'], dtype=object)"
      ]
     },
     "execution_count": 65,
     "metadata": {},
     "output_type": "execute_result"
    }
   ],
   "source": [
    "df_Q.income.unique()"
   ]
  },
  {
   "cell_type": "code",
   "execution_count": 32,
   "id": "00475db1-b06c-4617-9997-1053687636e7",
   "metadata": {
    "execution": {
     "iopub.execute_input": "2022-04-27T19:00:09.802970Z",
     "iopub.status.busy": "2022-04-27T19:00:09.802633Z",
     "iopub.status.idle": "2022-04-27T19:00:09.806385Z",
     "shell.execute_reply": "2022-04-27T19:00:09.805649Z",
     "shell.execute_reply.started": "2022-04-27T19:00:09.802937Z"
    },
    "tags": []
   },
   "outputs": [],
   "source": [
    "#df_M = df_M.rename(columns={'Series Name':'Series Name Month'})"
   ]
  },
  {
   "cell_type": "code",
   "execution_count": 157,
   "id": "f8b1c8ad-09cc-4d10-91ec-c20fe5be75a7",
   "metadata": {
    "execution": {
     "iopub.execute_input": "2022-04-27T10:22:04.524952Z",
     "iopub.status.busy": "2022-04-27T10:22:04.524524Z",
     "iopub.status.idle": "2022-04-27T10:22:04.544859Z",
     "shell.execute_reply": "2022-04-27T10:22:04.544220Z",
     "shell.execute_reply.started": "2022-04-27T10:22:04.524889Z"
    },
    "tags": []
   },
   "outputs": [
    {
     "data": {
      "text/html": [
       "<div>\n",
       "<style scoped>\n",
       "    .dataframe tbody tr th:only-of-type {\n",
       "        vertical-align: middle;\n",
       "    }\n",
       "\n",
       "    .dataframe tbody tr th {\n",
       "        vertical-align: top;\n",
       "    }\n",
       "\n",
       "    .dataframe thead th {\n",
       "        text-align: right;\n",
       "    }\n",
       "</style>\n",
       "<table border=\"1\" class=\"dataframe\">\n",
       "  <thead>\n",
       "    <tr style=\"text-align: right;\">\n",
       "      <th></th>\n",
       "      <th>Country Code</th>\n",
       "      <th>IMF Country Code</th>\n",
       "      <th>Country</th>\n",
       "      <th>Indicator Type</th>\n",
       "      <th>Series Name Month</th>\n",
       "      <th>Year</th>\n",
       "      <th>Month</th>\n",
       "      <th>monthly_metric</th>\n",
       "      <th>income</th>\n",
       "    </tr>\n",
       "  </thead>\n",
       "  <tbody>\n",
       "    <tr>\n",
       "      <th>0</th>\n",
       "      <td>ABW</td>\n",
       "      <td>314</td>\n",
       "      <td>aruba</td>\n",
       "      <td>Index</td>\n",
       "      <td>Headline Consumer Price Index</td>\n",
       "      <td>197001</td>\n",
       "      <td>197001</td>\n",
       "      <td>0.00000</td>\n",
       "      <td>Advanced</td>\n",
       "    </tr>\n",
       "    <tr>\n",
       "      <th>1</th>\n",
       "      <td>AFG</td>\n",
       "      <td>512</td>\n",
       "      <td>afghanistan</td>\n",
       "      <td>Index</td>\n",
       "      <td>Headline Consumer Price Index</td>\n",
       "      <td>197001</td>\n",
       "      <td>197001</td>\n",
       "      <td>0.00000</td>\n",
       "      <td>LIC</td>\n",
       "    </tr>\n",
       "    <tr>\n",
       "      <th>2</th>\n",
       "      <td>AGO</td>\n",
       "      <td>614</td>\n",
       "      <td>angola</td>\n",
       "      <td>Index</td>\n",
       "      <td>Headline Consumer Price Index</td>\n",
       "      <td>197001</td>\n",
       "      <td>197001</td>\n",
       "      <td>0.00000</td>\n",
       "      <td>EMDE</td>\n",
       "    </tr>\n",
       "    <tr>\n",
       "      <th>3</th>\n",
       "      <td>ALB</td>\n",
       "      <td>914</td>\n",
       "      <td>albania</td>\n",
       "      <td>Index</td>\n",
       "      <td>Headline Consumer Price Index</td>\n",
       "      <td>197001</td>\n",
       "      <td>197001</td>\n",
       "      <td>0.00000</td>\n",
       "      <td>EMDE</td>\n",
       "    </tr>\n",
       "    <tr>\n",
       "      <th>4</th>\n",
       "      <td>ARE</td>\n",
       "      <td>466</td>\n",
       "      <td>united arab emirates</td>\n",
       "      <td>Index</td>\n",
       "      <td>Headline Consumer Price Index</td>\n",
       "      <td>197001</td>\n",
       "      <td>197001</td>\n",
       "      <td>0.00000</td>\n",
       "      <td>Advanced</td>\n",
       "    </tr>\n",
       "    <tr>\n",
       "      <th>...</th>\n",
       "      <td>...</td>\n",
       "      <td>...</td>\n",
       "      <td>...</td>\n",
       "      <td>...</td>\n",
       "      <td>...</td>\n",
       "      <td>...</td>\n",
       "      <td>...</td>\n",
       "      <td>...</td>\n",
       "      <td>...</td>\n",
       "    </tr>\n",
       "    <tr>\n",
       "      <th>479210</th>\n",
       "      <td>URY</td>\n",
       "      <td>298</td>\n",
       "      <td>uruguay</td>\n",
       "      <td>Index</td>\n",
       "      <td>Producer Price Index</td>\n",
       "      <td>202104</td>\n",
       "      <td>202104</td>\n",
       "      <td>0.00000</td>\n",
       "      <td>Advanced</td>\n",
       "    </tr>\n",
       "    <tr>\n",
       "      <th>479211</th>\n",
       "      <td>USA</td>\n",
       "      <td>111</td>\n",
       "      <td>united states</td>\n",
       "      <td>Index</td>\n",
       "      <td>Producer Price Index</td>\n",
       "      <td>202104</td>\n",
       "      <td>202104</td>\n",
       "      <td>220.86277</td>\n",
       "      <td>Advanced</td>\n",
       "    </tr>\n",
       "    <tr>\n",
       "      <th>479212</th>\n",
       "      <td>UZB</td>\n",
       "      <td>927</td>\n",
       "      <td>uzbekistan</td>\n",
       "      <td>Index</td>\n",
       "      <td>Producer Price Index</td>\n",
       "      <td>202104</td>\n",
       "      <td>202104</td>\n",
       "      <td>0.00000</td>\n",
       "      <td>EMDE</td>\n",
       "    </tr>\n",
       "    <tr>\n",
       "      <th>479213</th>\n",
       "      <td>VEN</td>\n",
       "      <td>299</td>\n",
       "      <td>venezuela, rb</td>\n",
       "      <td>Index</td>\n",
       "      <td>Producer Price Index</td>\n",
       "      <td>202104</td>\n",
       "      <td>202104</td>\n",
       "      <td>0.00000</td>\n",
       "      <td>EMDE</td>\n",
       "    </tr>\n",
       "    <tr>\n",
       "      <th>479214</th>\n",
       "      <td>ZAF</td>\n",
       "      <td>199</td>\n",
       "      <td>south africa</td>\n",
       "      <td>Index</td>\n",
       "      <td>Producer Price Index</td>\n",
       "      <td>202104</td>\n",
       "      <td>202104</td>\n",
       "      <td>0.00000</td>\n",
       "      <td>EMDE</td>\n",
       "    </tr>\n",
       "  </tbody>\n",
       "</table>\n",
       "<p>479215 rows × 9 columns</p>\n",
       "</div>"
      ],
      "text/plain": [
       "       Country Code  IMF Country Code               Country Indicator Type  \\\n",
       "0               ABW               314                 aruba          Index   \n",
       "1               AFG               512           afghanistan          Index   \n",
       "2               AGO               614                angola          Index   \n",
       "3               ALB               914               albania          Index   \n",
       "4               ARE               466  united arab emirates          Index   \n",
       "...             ...               ...                   ...            ...   \n",
       "479210          URY               298               uruguay          Index   \n",
       "479211          USA               111         united states          Index   \n",
       "479212          UZB               927            uzbekistan          Index   \n",
       "479213          VEN               299         venezuela, rb          Index   \n",
       "479214          ZAF               199          south africa          Index   \n",
       "\n",
       "                    Series Name Month    Year   Month  monthly_metric  \\\n",
       "0       Headline Consumer Price Index  197001  197001         0.00000   \n",
       "1       Headline Consumer Price Index  197001  197001         0.00000   \n",
       "2       Headline Consumer Price Index  197001  197001         0.00000   \n",
       "3       Headline Consumer Price Index  197001  197001         0.00000   \n",
       "4       Headline Consumer Price Index  197001  197001         0.00000   \n",
       "...                               ...     ...     ...             ...   \n",
       "479210           Producer Price Index  202104  202104         0.00000   \n",
       "479211           Producer Price Index  202104  202104       220.86277   \n",
       "479212           Producer Price Index  202104  202104         0.00000   \n",
       "479213           Producer Price Index  202104  202104         0.00000   \n",
       "479214           Producer Price Index  202104  202104         0.00000   \n",
       "\n",
       "          income  \n",
       "0       Advanced  \n",
       "1            LIC  \n",
       "2           EMDE  \n",
       "3           EMDE  \n",
       "4       Advanced  \n",
       "...          ...  \n",
       "479210  Advanced  \n",
       "479211  Advanced  \n",
       "479212      EMDE  \n",
       "479213      EMDE  \n",
       "479214      EMDE  \n",
       "\n",
       "[479215 rows x 9 columns]"
      ]
     },
     "execution_count": 157,
     "metadata": {},
     "output_type": "execute_result"
    }
   ],
   "source": [
    "#df_M"
   ]
  },
  {
   "cell_type": "code",
   "execution_count": 14,
   "id": "3d186ea9-5e0c-43c9-928f-8b84b6405b4f",
   "metadata": {
    "execution": {
     "iopub.execute_input": "2022-05-01T19:45:22.212146Z",
     "iopub.status.busy": "2022-05-01T19:45:22.211571Z",
     "iopub.status.idle": "2022-05-01T19:45:22.339295Z",
     "shell.execute_reply": "2022-05-01T19:45:22.338131Z",
     "shell.execute_reply.started": "2022-05-01T19:45:22.212116Z"
    },
    "tags": []
   },
   "outputs": [
    {
     "data": {
      "text/html": [
       "<div>\n",
       "<style scoped>\n",
       "    .dataframe tbody tr th:only-of-type {\n",
       "        vertical-align: middle;\n",
       "    }\n",
       "\n",
       "    .dataframe tbody tr th {\n",
       "        vertical-align: top;\n",
       "    }\n",
       "\n",
       "    .dataframe thead th {\n",
       "        text-align: right;\n",
       "    }\n",
       "</style>\n",
       "<table border=\"1\" class=\"dataframe\">\n",
       "  <thead>\n",
       "    <tr style=\"text-align: right;\">\n",
       "      <th></th>\n",
       "      <th>Country Code</th>\n",
       "      <th>IMF Country Code</th>\n",
       "      <th>Country</th>\n",
       "      <th>Indicator Type</th>\n",
       "      <th>Series Name</th>\n",
       "      <th>Year</th>\n",
       "      <th>quaterly_metric</th>\n",
       "      <th>income</th>\n",
       "    </tr>\n",
       "  </thead>\n",
       "  <tbody>\n",
       "    <tr>\n",
       "      <th>0</th>\n",
       "      <td>ABW</td>\n",
       "      <td>314</td>\n",
       "      <td>aruba</td>\n",
       "      <td>index</td>\n",
       "      <td>Headline Consumer Price Index</td>\n",
       "      <td>19701</td>\n",
       "      <td>0.0</td>\n",
       "      <td>Advanced</td>\n",
       "    </tr>\n",
       "    <tr>\n",
       "      <th>1</th>\n",
       "      <td>AFG</td>\n",
       "      <td>512</td>\n",
       "      <td>afghanistan</td>\n",
       "      <td>index</td>\n",
       "      <td>Headline Consumer Price Index</td>\n",
       "      <td>19701</td>\n",
       "      <td>0.0</td>\n",
       "      <td>LIC</td>\n",
       "    </tr>\n",
       "    <tr>\n",
       "      <th>2</th>\n",
       "      <td>AGO</td>\n",
       "      <td>614</td>\n",
       "      <td>angola</td>\n",
       "      <td>index</td>\n",
       "      <td>Headline Consumer Price Index</td>\n",
       "      <td>19701</td>\n",
       "      <td>0.0</td>\n",
       "      <td>EMDE</td>\n",
       "    </tr>\n",
       "    <tr>\n",
       "      <th>3</th>\n",
       "      <td>ALB</td>\n",
       "      <td>914</td>\n",
       "      <td>albania</td>\n",
       "      <td>index</td>\n",
       "      <td>Headline Consumer Price Index</td>\n",
       "      <td>19701</td>\n",
       "      <td>0.0</td>\n",
       "      <td>EMDE</td>\n",
       "    </tr>\n",
       "    <tr>\n",
       "      <th>4</th>\n",
       "      <td>ARE</td>\n",
       "      <td>466</td>\n",
       "      <td>united arab emirates</td>\n",
       "      <td>index</td>\n",
       "      <td>Headline Consumer Price Index</td>\n",
       "      <td>19701</td>\n",
       "      <td>0.0</td>\n",
       "      <td>Advanced</td>\n",
       "    </tr>\n",
       "  </tbody>\n",
       "</table>\n",
       "</div>"
      ],
      "text/plain": [
       "  Country Code  IMF Country Code               Country Indicator Type  \\\n",
       "0          ABW               314                 aruba          index   \n",
       "1          AFG               512           afghanistan          index   \n",
       "2          AGO               614                angola          index   \n",
       "3          ALB               914               albania          index   \n",
       "4          ARE               466  united arab emirates          index   \n",
       "\n",
       "                     Series Name   Year  quaterly_metric    income  \n",
       "0  Headline Consumer Price Index  19701              0.0  Advanced  \n",
       "1  Headline Consumer Price Index  19701              0.0       LIC  \n",
       "2  Headline Consumer Price Index  19701              0.0      EMDE  \n",
       "3  Headline Consumer Price Index  19701              0.0      EMDE  \n",
       "4  Headline Consumer Price Index  19701              0.0  Advanced  "
      ]
     },
     "execution_count": 14,
     "metadata": {},
     "output_type": "execute_result"
    }
   ],
   "source": [
    "import numpy as np\n",
    "conditions_Y = [\n",
    "    (df_Y['Country'].isin(LIC)),\n",
    "    (df_Y['Country'].isin(EMDE)),\n",
    "    (df_Y['Country'].isin(Advanced)),\n",
    "    (df_Y['Country'] == 'other')\n",
    "]\n",
    "conditions_Q = [\n",
    "    (df_Q['Country'].isin(LIC)),\n",
    "    (df_Q['Country'].isin(EMDE)),\n",
    "    (df_Q['Country'].isin(Advanced)),\n",
    "    (df_Q['Country'] == 'other')\n",
    "]\n",
    "\n",
    "values = ['LIC', 'EMDE', 'Advanced', 'other']\n",
    "\n",
    "df_Y['income'] = np.select(conditions_Y, values)\n",
    "df_Q['income'] = np.select(conditions_Q, values)\n",
    "\n",
    "\n",
    "df_Q.head()"
   ]
  },
  {
   "cell_type": "code",
   "execution_count": 15,
   "id": "8ca106f1-cb22-4785-99c1-a0a55275183c",
   "metadata": {
    "execution": {
     "iopub.execute_input": "2022-05-01T19:45:28.254318Z",
     "iopub.status.busy": "2022-05-01T19:45:28.253969Z",
     "iopub.status.idle": "2022-05-01T19:45:28.263251Z",
     "shell.execute_reply": "2022-05-01T19:45:28.262134Z",
     "shell.execute_reply.started": "2022-05-01T19:45:28.254279Z"
    },
    "tags": []
   },
   "outputs": [
    {
     "data": {
      "text/plain": [
       "array(['Advanced', 'LIC', 'EMDE'], dtype=object)"
      ]
     },
     "execution_count": 15,
     "metadata": {},
     "output_type": "execute_result"
    }
   ],
   "source": [
    "df_Y.income.unique()"
   ]
  },
  {
   "cell_type": "code",
   "execution_count": 29,
   "id": "85d70776-b76e-4068-9c2b-9357277b1669",
   "metadata": {
    "execution": {
     "iopub.execute_input": "2022-05-01T19:55:20.506544Z",
     "iopub.status.busy": "2022-05-01T19:55:20.506257Z",
     "iopub.status.idle": "2022-05-01T19:55:20.520757Z",
     "shell.execute_reply": "2022-05-01T19:55:20.520155Z",
     "shell.execute_reply.started": "2022-05-01T19:55:20.506518Z"
    },
    "tags": []
   },
   "outputs": [],
   "source": [
    "df_Y['annual_metric']=df_Y['annual_metric'].replace(0, None)\n",
    "df_Q['quaterly_metric']=df_Q['quaterly_metric'].replace(0, None)"
   ]
  },
  {
   "cell_type": "code",
   "execution_count": 31,
   "id": "b0656bbe-20af-48b1-8e79-a87a53d1cf5c",
   "metadata": {
    "execution": {
     "iopub.execute_input": "2022-05-01T19:55:33.022246Z",
     "iopub.status.busy": "2022-05-01T19:55:33.021934Z",
     "iopub.status.idle": "2022-05-01T19:55:33.035352Z",
     "shell.execute_reply": "2022-05-01T19:55:33.034262Z",
     "shell.execute_reply.started": "2022-05-01T19:55:33.022214Z"
    },
    "tags": []
   },
   "outputs": [
    {
     "data": {
      "text/plain": [
       "array([None, 25.51000022888184, 7.96999979019165, ..., 24.61398092253813,\n",
       "       5.2863026273352, 17.14859759749846], dtype=object)"
      ]
     },
     "execution_count": 31,
     "metadata": {},
     "output_type": "execute_result"
    }
   ],
   "source": [
    "df_Y.annual_metric.unique()"
   ]
  },
  {
   "cell_type": "code",
   "execution_count": 32,
   "id": "db7b2284-c574-4164-92ae-38ca0ab2fef3",
   "metadata": {
    "execution": {
     "iopub.execute_input": "2022-05-01T19:55:42.016002Z",
     "iopub.status.busy": "2022-05-01T19:55:42.015637Z",
     "iopub.status.idle": "2022-05-01T19:55:50.651454Z",
     "shell.execute_reply": "2022-05-01T19:55:50.650670Z",
     "shell.execute_reply.started": "2022-05-01T19:55:42.015975Z"
    },
    "tags": []
   },
   "outputs": [],
   "source": [
    "df_Y.to_excel(\"Inflation_Category_Annual.xlsx\")"
   ]
  },
  {
   "cell_type": "code",
   "execution_count": 33,
   "id": "64085bfb-0e40-4067-892a-58415e86e38a",
   "metadata": {
    "execution": {
     "iopub.execute_input": "2022-05-01T19:55:50.653303Z",
     "iopub.status.busy": "2022-05-01T19:55:50.653020Z",
     "iopub.status.idle": "2022-05-01T19:56:16.033981Z",
     "shell.execute_reply": "2022-05-01T19:56:16.033113Z",
     "shell.execute_reply.started": "2022-05-01T19:55:50.653273Z"
    },
    "tags": []
   },
   "outputs": [],
   "source": [
    "df_Q.to_excel(\"Inflation_Category_Quarterly.xlsx\")"
   ]
  },
  {
   "cell_type": "code",
   "execution_count": 33,
   "id": "479cf34b-6324-4029-ad56-a518a9702b2e",
   "metadata": {
    "execution": {
     "iopub.execute_input": "2022-04-27T19:00:16.520092Z",
     "iopub.status.busy": "2022-04-27T19:00:16.519526Z",
     "iopub.status.idle": "2022-04-27T19:00:16.529115Z",
     "shell.execute_reply": "2022-04-27T19:00:16.528338Z",
     "shell.execute_reply.started": "2022-04-27T19:00:16.520034Z"
    },
    "tags": []
   },
   "outputs": [],
   "source": [
    "df_Q = df_Q.rename(columns={'Series Name':'Series Name Quarter'})"
   ]
  },
  {
   "cell_type": "code",
   "execution_count": 34,
   "id": "825bee9b-4141-45ff-a179-82f829a8238a",
   "metadata": {
    "execution": {
     "iopub.execute_input": "2022-04-27T19:00:16.983990Z",
     "iopub.status.busy": "2022-04-27T19:00:16.983688Z",
     "iopub.status.idle": "2022-04-27T19:00:16.995510Z",
     "shell.execute_reply": "2022-04-27T19:00:16.994657Z",
     "shell.execute_reply.started": "2022-04-27T19:00:16.983955Z"
    },
    "tags": []
   },
   "outputs": [],
   "source": [
    "df_Y = df_Y.rename(columns={'Series Name':'Series Name Year'})"
   ]
  },
  {
   "cell_type": "code",
   "execution_count": 35,
   "id": "f9f3db5b-db45-433d-9bc5-12f660d1cf4d",
   "metadata": {
    "execution": {
     "iopub.execute_input": "2022-04-27T19:00:23.072082Z",
     "iopub.status.busy": "2022-04-27T19:00:23.071643Z",
     "iopub.status.idle": "2022-04-27T19:00:23.076825Z",
     "shell.execute_reply": "2022-04-27T19:00:23.075682Z",
     "shell.execute_reply.started": "2022-04-27T19:00:23.072030Z"
    },
    "tags": []
   },
   "outputs": [],
   "source": [
    "# df_M = df_M.astype({'Year': 'str'})\n",
    "# df_M[\"Y\"] = df_M['Year'].str[:4]\n",
    "# df_M[\"M\"] = df_M['Year'].str[4:]"
   ]
  },
  {
   "cell_type": "code",
   "execution_count": 36,
   "id": "2628c315-7fff-40b8-95d8-47d181506243",
   "metadata": {
    "execution": {
     "iopub.execute_input": "2022-04-27T19:00:23.822940Z",
     "iopub.status.busy": "2022-04-27T19:00:23.822184Z",
     "iopub.status.idle": "2022-04-27T19:00:24.024761Z",
     "shell.execute_reply": "2022-04-27T19:00:24.023925Z",
     "shell.execute_reply.started": "2022-04-27T19:00:23.822896Z"
    },
    "tags": []
   },
   "outputs": [],
   "source": [
    "df_Q = df_Q.astype({'Year': 'str'})\n",
    "df_Q[\"Y\"] = df_Q['Year'].str[:4]\n",
    "df_Q[\"Q\"] = df_Q['Year'].str[4:]"
   ]
  },
  {
   "cell_type": "code",
   "execution_count": 37,
   "id": "3c54c28f-978b-48fb-854e-4417a729ce8c",
   "metadata": {
    "execution": {
     "iopub.execute_input": "2022-04-27T19:00:25.097055Z",
     "iopub.status.busy": "2022-04-27T19:00:25.096533Z",
     "iopub.status.idle": "2022-04-27T19:00:25.108925Z",
     "shell.execute_reply": "2022-04-27T19:00:25.108281Z",
     "shell.execute_reply.started": "2022-04-27T19:00:25.097027Z"
    },
    "tags": []
   },
   "outputs": [
    {
     "data": {
      "text/plain": [
       "array(['1970', '1971', '1972', '1973', '1974', '1975', '1976', '1977',\n",
       "       '1978', '1979', '1980', '1981', '1982', '1983', '1984', '1985',\n",
       "       '1986', '1987', '1988', '1989', '1990', '1991', '1992', '1993',\n",
       "       '1994', '1995', '1996', '1997', '1998', '1999', '2000', '2001',\n",
       "       '2002', '2003', '2004', '2005', '2006', '2007', '2008', '2009',\n",
       "       '2010', '2011', '2012', '2013', '2014', '2015', '2016', '2017',\n",
       "       '2018', '2019', '2020', '2021'], dtype=object)"
      ]
     },
     "execution_count": 37,
     "metadata": {},
     "output_type": "execute_result"
    }
   ],
   "source": [
    "df_Q['Y'].unique()"
   ]
  },
  {
   "cell_type": "code",
   "execution_count": 38,
   "id": "b11cb5eb-1feb-4a4b-a96e-ae2d2a5cd60a",
   "metadata": {
    "execution": {
     "iopub.execute_input": "2022-04-27T19:00:41.968325Z",
     "iopub.status.busy": "2022-04-27T19:00:41.968014Z",
     "iopub.status.idle": "2022-04-27T19:00:41.971939Z",
     "shell.execute_reply": "2022-04-27T19:00:41.970937Z",
     "shell.execute_reply.started": "2022-04-27T19:00:41.968297Z"
    },
    "tags": []
   },
   "outputs": [],
   "source": [
    "# df_M = df_M.astype({'Year': 'str'})\n",
    "# df_M[\"Y\"] = df_M['Year'].str[:4]\n",
    "# df_M[\"M\"] = df_M['Year'].str[4:]"
   ]
  },
  {
   "cell_type": "code",
   "execution_count": 39,
   "id": "47dda849-dfde-4c19-8d42-68614abb2be5",
   "metadata": {
    "execution": {
     "iopub.execute_input": "2022-04-27T19:00:42.632293Z",
     "iopub.status.busy": "2022-04-27T19:00:42.631994Z",
     "iopub.status.idle": "2022-04-27T19:00:42.641247Z",
     "shell.execute_reply": "2022-04-27T19:00:42.640572Z",
     "shell.execute_reply.started": "2022-04-27T19:00:42.632262Z"
    },
    "tags": []
   },
   "outputs": [
    {
     "data": {
      "text/plain": [
       "array(['Inflation', 'Rate'], dtype=object)"
      ]
     },
     "execution_count": 39,
     "metadata": {},
     "output_type": "execute_result"
    }
   ],
   "source": [
    "df_Y[\"Indicator Type\"].unique()"
   ]
  },
  {
   "cell_type": "code",
   "execution_count": 41,
   "id": "da195dd6-b0b8-4998-90b1-615908be2825",
   "metadata": {
    "execution": {
     "iopub.execute_input": "2022-04-27T19:00:48.056488Z",
     "iopub.status.busy": "2022-04-27T19:00:48.056056Z",
     "iopub.status.idle": "2022-04-27T19:00:48.127376Z",
     "shell.execute_reply": "2022-04-27T19:00:48.126676Z",
     "shell.execute_reply.started": "2022-04-27T19:00:48.056420Z"
    },
    "tags": []
   },
   "outputs": [],
   "source": [
    "# df_M = df_M.astype({'Y': 'int64', 'M': 'int64'})\n",
    "df_Q = df_Q.astype({'Y': 'int64', 'Q': 'int64'})"
   ]
  },
  {
   "cell_type": "code",
   "execution_count": 42,
   "id": "1a69f1cf-c9cd-4e94-a29d-bd113a9cd55a",
   "metadata": {
    "execution": {
     "iopub.execute_input": "2022-04-27T19:00:49.639512Z",
     "iopub.status.busy": "2022-04-27T19:00:49.639193Z",
     "iopub.status.idle": "2022-04-27T19:00:49.646110Z",
     "shell.execute_reply": "2022-04-27T19:00:49.645177Z",
     "shell.execute_reply.started": "2022-04-27T19:00:49.639478Z"
    },
    "tags": []
   },
   "outputs": [
    {
     "data": {
      "text/plain": [
       "Country Code            object\n",
       "IMF Country Code         int64\n",
       "Country                 object\n",
       "Indicator Type          object\n",
       "Series Name Quarter     object\n",
       "Year                    object\n",
       "quaterly_metric        float64\n",
       "income                  object\n",
       "Y                        int64\n",
       "Q                        int64\n",
       "dtype: object"
      ]
     },
     "execution_count": 42,
     "metadata": {},
     "output_type": "execute_result"
    }
   ],
   "source": [
    "df_Q.dtypes"
   ]
  },
  {
   "cell_type": "code",
   "execution_count": 43,
   "id": "9fc82eb2-4090-4b22-952e-c24a1da16f9f",
   "metadata": {
    "execution": {
     "iopub.execute_input": "2022-04-27T19:00:51.946984Z",
     "iopub.status.busy": "2022-04-27T19:00:51.946693Z",
     "iopub.status.idle": "2022-04-27T19:00:51.987302Z",
     "shell.execute_reply": "2022-04-27T19:00:51.983572Z",
     "shell.execute_reply.started": "2022-04-27T19:00:51.946956Z"
    },
    "tags": []
   },
   "outputs": [
    {
     "ename": "NameError",
     "evalue": "name 'df_M' is not defined",
     "output_type": "error",
     "traceback": [
      "\u001b[0;31m---------------------------------------------------------------------------\u001b[0m",
      "\u001b[0;31mNameError\u001b[0m                                 Traceback (most recent call last)",
      "Input \u001b[0;32mIn [43]\u001b[0m, in \u001b[0;36m<module>\u001b[0;34m\u001b[0m\n\u001b[1;32m      1\u001b[0m conditions \u001b[38;5;241m=\u001b[39m [\n\u001b[0;32m----> 2\u001b[0m     (\u001b[43mdf_M\u001b[49m[\u001b[38;5;124m'\u001b[39m\u001b[38;5;124mM\u001b[39m\u001b[38;5;124m'\u001b[39m] \u001b[38;5;241m==\u001b[39m \u001b[38;5;241m1\u001b[39m),\n\u001b[1;32m      3\u001b[0m     (df_M[\u001b[38;5;124m'\u001b[39m\u001b[38;5;124mM\u001b[39m\u001b[38;5;124m'\u001b[39m] \u001b[38;5;241m==\u001b[39m \u001b[38;5;241m2\u001b[39m),\n\u001b[1;32m      4\u001b[0m     (df_M[\u001b[38;5;124m'\u001b[39m\u001b[38;5;124mM\u001b[39m\u001b[38;5;124m'\u001b[39m] \u001b[38;5;241m==\u001b[39m \u001b[38;5;241m3\u001b[39m),\n\u001b[1;32m      5\u001b[0m     (df_M[\u001b[38;5;124m'\u001b[39m\u001b[38;5;124mM\u001b[39m\u001b[38;5;124m'\u001b[39m] \u001b[38;5;241m==\u001b[39m \u001b[38;5;241m4\u001b[39m),\n\u001b[1;32m      6\u001b[0m     (df_M[\u001b[38;5;124m'\u001b[39m\u001b[38;5;124mM\u001b[39m\u001b[38;5;124m'\u001b[39m] \u001b[38;5;241m==\u001b[39m \u001b[38;5;241m5\u001b[39m),\n\u001b[1;32m      7\u001b[0m     (df_M[\u001b[38;5;124m'\u001b[39m\u001b[38;5;124mM\u001b[39m\u001b[38;5;124m'\u001b[39m] \u001b[38;5;241m==\u001b[39m \u001b[38;5;241m6\u001b[39m),\n\u001b[1;32m      8\u001b[0m     (df_M[\u001b[38;5;124m'\u001b[39m\u001b[38;5;124mM\u001b[39m\u001b[38;5;124m'\u001b[39m] \u001b[38;5;241m==\u001b[39m \u001b[38;5;241m7\u001b[39m),\n\u001b[1;32m      9\u001b[0m     (df_M[\u001b[38;5;124m'\u001b[39m\u001b[38;5;124mM\u001b[39m\u001b[38;5;124m'\u001b[39m] \u001b[38;5;241m==\u001b[39m \u001b[38;5;241m8\u001b[39m),\n\u001b[1;32m     10\u001b[0m     (df_M[\u001b[38;5;124m'\u001b[39m\u001b[38;5;124mM\u001b[39m\u001b[38;5;124m'\u001b[39m] \u001b[38;5;241m==\u001b[39m \u001b[38;5;241m9\u001b[39m),\n\u001b[1;32m     11\u001b[0m     (df_M[\u001b[38;5;124m'\u001b[39m\u001b[38;5;124mM\u001b[39m\u001b[38;5;124m'\u001b[39m] \u001b[38;5;241m==\u001b[39m \u001b[38;5;241m10\u001b[39m),\n\u001b[1;32m     12\u001b[0m     (df_M[\u001b[38;5;124m'\u001b[39m\u001b[38;5;124mM\u001b[39m\u001b[38;5;124m'\u001b[39m] \u001b[38;5;241m==\u001b[39m \u001b[38;5;241m11\u001b[39m),\n\u001b[1;32m     13\u001b[0m     (df_M[\u001b[38;5;124m'\u001b[39m\u001b[38;5;124mM\u001b[39m\u001b[38;5;124m'\u001b[39m] \u001b[38;5;241m==\u001b[39m \u001b[38;5;241m12\u001b[39m)\n\u001b[1;32m     14\u001b[0m   ]\n\u001b[1;32m     16\u001b[0m values \u001b[38;5;241m=\u001b[39m [\u001b[38;5;241m1\u001b[39m, \u001b[38;5;241m1\u001b[39m, \u001b[38;5;241m1\u001b[39m, \u001b[38;5;241m2\u001b[39m, \u001b[38;5;241m2\u001b[39m, \u001b[38;5;241m2\u001b[39m, \u001b[38;5;241m3\u001b[39m, \u001b[38;5;241m3\u001b[39m, \u001b[38;5;241m3\u001b[39m, \u001b[38;5;241m4\u001b[39m, \u001b[38;5;241m4\u001b[39m, \u001b[38;5;241m4\u001b[39m] \n\u001b[1;32m     18\u001b[0m df_M[\u001b[38;5;124m'\u001b[39m\u001b[38;5;124mQ\u001b[39m\u001b[38;5;124m'\u001b[39m] \u001b[38;5;241m=\u001b[39m np\u001b[38;5;241m.\u001b[39mselect(conditions, values)\n",
      "\u001b[0;31mNameError\u001b[0m: name 'df_M' is not defined"
     ]
    }
   ],
   "source": [
    "# conditions = [\n",
    "#     (df_M['M'] == 1),\n",
    "#     (df_M['M'] == 2),\n",
    "#     (df_M['M'] == 3),\n",
    "#     (df_M['M'] == 4),\n",
    "#     (df_M['M'] == 5),\n",
    "#     (df_M['M'] == 6),\n",
    "#     (df_M['M'] == 7),\n",
    "#     (df_M['M'] == 8),\n",
    "#     (df_M['M'] == 9),\n",
    "#     (df_M['M'] == 10),\n",
    "#     (df_M['M'] == 11),\n",
    "#     (df_M['M'] == 12)\n",
    "#   ]\n",
    "\n",
    "# values = [1, 1, 1, 2, 2, 2, 3, 3, 3, 4, 4, 4] \n",
    "\n",
    "# df_M['Q'] = np.select(conditions, values)\n",
    "\n",
    "# df_M.head()"
   ]
  },
  {
   "cell_type": "code",
   "execution_count": 85,
   "id": "c7a038b5-7788-4c29-a822-05a7fb139fbf",
   "metadata": {
    "execution": {
     "iopub.execute_input": "2022-04-27T19:09:11.929503Z",
     "iopub.status.busy": "2022-04-27T19:09:11.929184Z",
     "iopub.status.idle": "2022-04-27T19:09:20.513165Z",
     "shell.execute_reply": "2022-04-27T19:09:20.512289Z",
     "shell.execute_reply.started": "2022-04-27T19:09:11.929472Z"
    },
    "tags": []
   },
   "outputs": [],
   "source": [
    "df_Y.to_excel(\"Inflation_Category_Annual.xlsx\")"
   ]
  },
  {
   "cell_type": "code",
   "execution_count": 69,
   "id": "14d81d89-ab40-4602-9853-bc9afc07461c",
   "metadata": {
    "execution": {
     "iopub.execute_input": "2022-04-27T19:06:50.413143Z",
     "iopub.status.busy": "2022-04-27T19:06:50.412584Z",
     "iopub.status.idle": "2022-04-27T19:06:50.426019Z",
     "shell.execute_reply": "2022-04-27T19:06:50.425019Z",
     "shell.execute_reply.started": "2022-04-27T19:06:50.413112Z"
    },
    "tags": []
   },
   "outputs": [
    {
     "data": {
      "text/plain": [
       "array(['Advanced', 'LIC', 'EMDE'], dtype=object)"
      ]
     },
     "execution_count": 69,
     "metadata": {},
     "output_type": "execute_result"
    }
   ],
   "source": [
    "df_Q.income.unique()"
   ]
  },
  {
   "cell_type": "code",
   "execution_count": 45,
   "id": "2d428552-54af-4e21-b0c2-ed8a058b5a19",
   "metadata": {
    "execution": {
     "iopub.execute_input": "2022-04-27T19:01:29.479137Z",
     "iopub.status.busy": "2022-04-27T19:01:29.478607Z",
     "iopub.status.idle": "2022-04-27T19:01:29.885761Z",
     "shell.execute_reply": "2022-04-27T19:01:29.884891Z",
     "shell.execute_reply.started": "2022-04-27T19:01:29.479107Z"
    },
    "tags": []
   },
   "outputs": [],
   "source": [
    "\n",
    "# df_M[\"Series Name Month\"]= df_M[\"Series Name Month\"].str.replace(\" Index\",\"\")\n",
    "df_Q[\"Series Name Quarter\"]= df_Q[\"Series Name Quarter\"].str.replace(\" Index\",\"\")\n",
    "df_Y[\"Series Name Year\"]= df_Y[\"Series Name Year\"].str.replace(\" Inflation\",\"\")\n",
    "# df_M[\"Series Name Month\"]= df_M[\"Series Name Month\"].str.replace('Food Price','Food Consumer Price')\n",
    "# df_M[\"Series Name Month\"]= df_M[\"Series Name Month\"].str.replace('Energy Price','Energy Consumer Price')\n",
    "df_Q[\"Series Name Quarter\"]= df_Q[\"Series Name Quarter\"].str.replace('Food Price','Food Consumer Price')\n",
    "df_Q[\"Series Name Quarter\"]= df_Q[\"Series Name Quarter\"].str.replace('Energy Price','Energy Consumer Price')"
   ]
  },
  {
   "cell_type": "code",
   "execution_count": 170,
   "id": "55cee1e1-98ef-4994-b698-fd7f98e84111",
   "metadata": {
    "execution": {
     "iopub.execute_input": "2022-04-27T10:22:07.604538Z",
     "iopub.status.busy": "2022-04-27T10:22:07.603955Z",
     "iopub.status.idle": "2022-04-27T10:22:08.367486Z",
     "shell.execute_reply": "2022-04-27T10:22:08.366675Z",
     "shell.execute_reply.started": "2022-04-27T10:22:07.604501Z"
    },
    "tags": []
   },
   "outputs": [],
   "source": [
    "merged_df = df_M.merge(df_Q, how='outer', left_on=[\"Country Code\", \"IMF Country Code\", \"Country\", \"Y\", \"Q\", \"Series Name Month\"], right_on=[\"Country Code\", \"IMF Country Code\", \"Country\",\"Y\",\"Q\", \"Series Name Quarter\"])\n"
   ]
  },
  {
   "cell_type": "code",
   "execution_count": 171,
   "id": "e3e68c65-cd66-4f17-afa3-b44dbfcdd4d9",
   "metadata": {
    "execution": {
     "iopub.execute_input": "2022-04-27T10:22:08.369298Z",
     "iopub.status.busy": "2022-04-27T10:22:08.368903Z",
     "iopub.status.idle": "2022-04-27T10:22:08.385683Z",
     "shell.execute_reply": "2022-04-27T10:22:08.384417Z",
     "shell.execute_reply.started": "2022-04-27T10:22:08.369262Z"
    },
    "tags": []
   },
   "outputs": [
    {
     "data": {
      "text/html": [
       "<div>\n",
       "<style scoped>\n",
       "    .dataframe tbody tr th:only-of-type {\n",
       "        vertical-align: middle;\n",
       "    }\n",
       "\n",
       "    .dataframe tbody tr th {\n",
       "        vertical-align: top;\n",
       "    }\n",
       "\n",
       "    .dataframe thead th {\n",
       "        text-align: right;\n",
       "    }\n",
       "</style>\n",
       "<table border=\"1\" class=\"dataframe\">\n",
       "  <thead>\n",
       "    <tr style=\"text-align: right;\">\n",
       "      <th></th>\n",
       "      <th>Country Code</th>\n",
       "      <th>IMF Country Code</th>\n",
       "      <th>Country</th>\n",
       "      <th>Indicator Type</th>\n",
       "      <th>Series Name Year</th>\n",
       "      <th>Year</th>\n",
       "      <th>annual_metric</th>\n",
       "    </tr>\n",
       "  </thead>\n",
       "  <tbody>\n",
       "    <tr>\n",
       "      <th>0</th>\n",
       "      <td>ABW</td>\n",
       "      <td>314</td>\n",
       "      <td>aruba</td>\n",
       "      <td>Inflation</td>\n",
       "      <td>Headline Consumer Price</td>\n",
       "      <td>1970</td>\n",
       "      <td>0.000000</td>\n",
       "    </tr>\n",
       "    <tr>\n",
       "      <th>1</th>\n",
       "      <td>AFG</td>\n",
       "      <td>512</td>\n",
       "      <td>afghanistan</td>\n",
       "      <td>Inflation</td>\n",
       "      <td>Headline Consumer Price</td>\n",
       "      <td>1970</td>\n",
       "      <td>25.510000</td>\n",
       "    </tr>\n",
       "    <tr>\n",
       "      <th>2</th>\n",
       "      <td>AGO</td>\n",
       "      <td>614</td>\n",
       "      <td>angola</td>\n",
       "      <td>Inflation</td>\n",
       "      <td>Headline Consumer Price</td>\n",
       "      <td>1970</td>\n",
       "      <td>7.970000</td>\n",
       "    </tr>\n",
       "    <tr>\n",
       "      <th>3</th>\n",
       "      <td>ALB</td>\n",
       "      <td>914</td>\n",
       "      <td>albania</td>\n",
       "      <td>Inflation</td>\n",
       "      <td>Headline Consumer Price</td>\n",
       "      <td>1970</td>\n",
       "      <td>0.000000</td>\n",
       "    </tr>\n",
       "    <tr>\n",
       "      <th>4</th>\n",
       "      <td>ARE</td>\n",
       "      <td>466</td>\n",
       "      <td>united arab emirates</td>\n",
       "      <td>Inflation</td>\n",
       "      <td>Headline Consumer Price</td>\n",
       "      <td>1970</td>\n",
       "      <td>21.984699</td>\n",
       "    </tr>\n",
       "    <tr>\n",
       "      <th>...</th>\n",
       "      <td>...</td>\n",
       "      <td>...</td>\n",
       "      <td>...</td>\n",
       "      <td>...</td>\n",
       "      <td>...</td>\n",
       "      <td>...</td>\n",
       "      <td>...</td>\n",
       "    </tr>\n",
       "    <tr>\n",
       "      <th>48547</th>\n",
       "      <td>WSM</td>\n",
       "      <td>862</td>\n",
       "      <td>samoa</td>\n",
       "      <td>Rate</td>\n",
       "      <td>GDP deflator Index growth rate</td>\n",
       "      <td>2020</td>\n",
       "      <td>0.332101</td>\n",
       "    </tr>\n",
       "    <tr>\n",
       "      <th>48548</th>\n",
       "      <td>YEM</td>\n",
       "      <td>474</td>\n",
       "      <td>yemen, rep.</td>\n",
       "      <td>Rate</td>\n",
       "      <td>GDP deflator Index growth rate</td>\n",
       "      <td>2020</td>\n",
       "      <td>24.613981</td>\n",
       "    </tr>\n",
       "    <tr>\n",
       "      <th>48549</th>\n",
       "      <td>ZAF</td>\n",
       "      <td>199</td>\n",
       "      <td>south africa</td>\n",
       "      <td>Rate</td>\n",
       "      <td>GDP deflator Index growth rate</td>\n",
       "      <td>2020</td>\n",
       "      <td>5.286303</td>\n",
       "    </tr>\n",
       "    <tr>\n",
       "      <th>48550</th>\n",
       "      <td>ZMB</td>\n",
       "      <td>754</td>\n",
       "      <td>zambia</td>\n",
       "      <td>Rate</td>\n",
       "      <td>GDP deflator Index growth rate</td>\n",
       "      <td>2020</td>\n",
       "      <td>17.148598</td>\n",
       "    </tr>\n",
       "    <tr>\n",
       "      <th>48551</th>\n",
       "      <td>ZWE</td>\n",
       "      <td>698</td>\n",
       "      <td>zimbabwe</td>\n",
       "      <td>Rate</td>\n",
       "      <td>GDP deflator Index growth rate</td>\n",
       "      <td>2020</td>\n",
       "      <td>0.000000</td>\n",
       "    </tr>\n",
       "  </tbody>\n",
       "</table>\n",
       "<p>48552 rows × 7 columns</p>\n",
       "</div>"
      ],
      "text/plain": [
       "      Country Code  IMF Country Code               Country Indicator Type  \\\n",
       "0              ABW               314                 aruba      Inflation   \n",
       "1              AFG               512           afghanistan      Inflation   \n",
       "2              AGO               614                angola      Inflation   \n",
       "3              ALB               914               albania      Inflation   \n",
       "4              ARE               466  united arab emirates      Inflation   \n",
       "...            ...               ...                   ...            ...   \n",
       "48547          WSM               862                 samoa           Rate   \n",
       "48548          YEM               474           yemen, rep.           Rate   \n",
       "48549          ZAF               199          south africa           Rate   \n",
       "48550          ZMB               754                zambia           Rate   \n",
       "48551          ZWE               698              zimbabwe           Rate   \n",
       "\n",
       "                     Series Name Year  Year  annual_metric  \n",
       "0             Headline Consumer Price  1970       0.000000  \n",
       "1             Headline Consumer Price  1970      25.510000  \n",
       "2             Headline Consumer Price  1970       7.970000  \n",
       "3             Headline Consumer Price  1970       0.000000  \n",
       "4             Headline Consumer Price  1970      21.984699  \n",
       "...                               ...   ...            ...  \n",
       "48547  GDP deflator Index growth rate  2020       0.332101  \n",
       "48548  GDP deflator Index growth rate  2020      24.613981  \n",
       "48549  GDP deflator Index growth rate  2020       5.286303  \n",
       "48550  GDP deflator Index growth rate  2020      17.148598  \n",
       "48551  GDP deflator Index growth rate  2020       0.000000  \n",
       "\n",
       "[48552 rows x 7 columns]"
      ]
     },
     "execution_count": 171,
     "metadata": {},
     "output_type": "execute_result"
    }
   ],
   "source": [
    "df_Y"
   ]
  },
  {
   "cell_type": "code",
   "execution_count": 172,
   "id": "8031f1fc-80f1-4e9f-b4df-ba2d82f35fc7",
   "metadata": {
    "execution": {
     "iopub.execute_input": "2022-04-27T10:22:08.387763Z",
     "iopub.status.busy": "2022-04-27T10:22:08.387469Z",
     "iopub.status.idle": "2022-04-27T10:22:09.104483Z",
     "shell.execute_reply": "2022-04-27T10:22:09.103398Z",
     "shell.execute_reply.started": "2022-04-27T10:22:08.387738Z"
    },
    "tags": []
   },
   "outputs": [],
   "source": [
    "final_df = merged_df.merge(df_Y, how='outer', left_on=[\"Country Code\", \"IMF Country Code\", \"Country\", \"Y\", \"Series Name Month\"], right_on=[\"Country Code\", \"IMF Country Code\", \"Country\",\"Year\", \"Series Name Year\"])\n"
   ]
  },
  {
   "cell_type": "code",
   "execution_count": 173,
   "id": "64c17f98-f814-499e-94fa-23615530fa0f",
   "metadata": {
    "execution": {
     "iopub.execute_input": "2022-04-27T10:22:09.106114Z",
     "iopub.status.busy": "2022-04-27T10:22:09.105864Z",
     "iopub.status.idle": "2022-04-27T10:22:09.121480Z",
     "shell.execute_reply": "2022-04-27T10:22:09.120574Z",
     "shell.execute_reply.started": "2022-04-27T10:22:09.106082Z"
    },
    "tags": []
   },
   "outputs": [
    {
     "data": {
      "text/plain": [
       "array([ 0.        , 25.51000023,  7.96999979, ..., 24.61398092,\n",
       "        5.28630263, 17.1485976 ])"
      ]
     },
     "execution_count": 173,
     "metadata": {},
     "output_type": "execute_result"
    }
   ],
   "source": [
    "final_df.annual_metric.unique()"
   ]
  },
  {
   "cell_type": "code",
   "execution_count": 174,
   "id": "e44e518e-95c2-42c5-a917-38e09ef640a0",
   "metadata": {
    "execution": {
     "iopub.execute_input": "2022-04-27T10:22:09.123400Z",
     "iopub.status.busy": "2022-04-27T10:22:09.122997Z",
     "iopub.status.idle": "2022-04-27T10:22:09.168358Z",
     "shell.execute_reply": "2022-04-27T10:22:09.167383Z",
     "shell.execute_reply.started": "2022-04-27T10:22:09.123356Z"
    },
    "tags": []
   },
   "outputs": [
    {
     "data": {
      "text/plain": [
       "array(['Headline Consumer Price', 'Food Consumer Price',\n",
       "       'Energy Consumer Price', 'Official Core Consumer Price',\n",
       "       'Producer Price', nan], dtype=object)"
      ]
     },
     "execution_count": 174,
     "metadata": {},
     "output_type": "execute_result"
    }
   ],
   "source": [
    "merged_df[\"Series Name Month\"].unique()"
   ]
  },
  {
   "cell_type": "code",
   "execution_count": 175,
   "id": "9edc201f-99e1-4f62-877d-7cbf90f66f83",
   "metadata": {
    "execution": {
     "iopub.execute_input": "2022-04-27T10:22:09.170212Z",
     "iopub.status.busy": "2022-04-27T10:22:09.169877Z",
     "iopub.status.idle": "2022-04-27T10:22:09.180974Z",
     "shell.execute_reply": "2022-04-27T10:22:09.180049Z",
     "shell.execute_reply.started": "2022-04-27T10:22:09.170186Z"
    },
    "tags": []
   },
   "outputs": [
    {
     "data": {
      "text/plain": [
       "array(['Headline Consumer Price', 'Food Consumer Price',\n",
       "       'Energy Consumer Price', 'Official Core Consumer Price',\n",
       "       'Producer Price', 'GDP deflator Index growth rate'], dtype=object)"
      ]
     },
     "execution_count": 175,
     "metadata": {},
     "output_type": "execute_result"
    }
   ],
   "source": [
    "df_Y[\"Series Name Year\"].unique()"
   ]
  },
  {
   "cell_type": "code",
   "execution_count": 190,
   "id": "aee59cf0-fd22-4023-9a1f-8bf2f4976a78",
   "metadata": {
    "execution": {
     "iopub.execute_input": "2022-04-27T11:01:59.015557Z",
     "iopub.status.busy": "2022-04-27T11:01:59.015219Z",
     "iopub.status.idle": "2022-04-27T11:01:59.376536Z",
     "shell.execute_reply": "2022-04-27T11:01:59.375741Z",
     "shell.execute_reply.started": "2022-04-27T11:01:59.015519Z"
    }
   },
   "outputs": [
    {
     "data": {
      "text/html": [
       "<div>\n",
       "<style scoped>\n",
       "    .dataframe tbody tr th:only-of-type {\n",
       "        vertical-align: middle;\n",
       "    }\n",
       "\n",
       "    .dataframe tbody tr th {\n",
       "        vertical-align: top;\n",
       "    }\n",
       "\n",
       "    .dataframe thead th {\n",
       "        text-align: right;\n",
       "    }\n",
       "</style>\n",
       "<table border=\"1\" class=\"dataframe\">\n",
       "  <thead>\n",
       "    <tr style=\"text-align: right;\">\n",
       "      <th></th>\n",
       "      <th>Country Code</th>\n",
       "      <th>IMF Country Code</th>\n",
       "      <th>Country</th>\n",
       "      <th>Indicator Type_x</th>\n",
       "      <th>Series Name Month</th>\n",
       "      <th>Year_x</th>\n",
       "      <th>Month</th>\n",
       "      <th>monthly_metric</th>\n",
       "      <th>income</th>\n",
       "      <th>Y</th>\n",
       "      <th>M</th>\n",
       "      <th>Q</th>\n",
       "      <th>Indicator Type_y</th>\n",
       "      <th>Series Name Quarter</th>\n",
       "      <th>Year_y</th>\n",
       "      <th>quaterly_metric</th>\n",
       "      <th>Indicator Type</th>\n",
       "      <th>Series Name Year</th>\n",
       "      <th>Year</th>\n",
       "      <th>annual_metric</th>\n",
       "    </tr>\n",
       "  </thead>\n",
       "  <tbody>\n",
       "    <tr>\n",
       "      <th>0</th>\n",
       "      <td>ABW</td>\n",
       "      <td>314</td>\n",
       "      <td>aruba</td>\n",
       "      <td>Index</td>\n",
       "      <td>Headline Consumer Price</td>\n",
       "      <td>197001</td>\n",
       "      <td>197001.0</td>\n",
       "      <td>0.0</td>\n",
       "      <td>Advanced</td>\n",
       "      <td>1970.0</td>\n",
       "      <td>1.0</td>\n",
       "      <td>1.0</td>\n",
       "      <td>index</td>\n",
       "      <td>Headline Consumer Price</td>\n",
       "      <td>19701</td>\n",
       "      <td>0.0</td>\n",
       "      <td>Inflation</td>\n",
       "      <td>Headline Consumer Price</td>\n",
       "      <td>1970.0</td>\n",
       "      <td>0.0</td>\n",
       "    </tr>\n",
       "    <tr>\n",
       "      <th>1</th>\n",
       "      <td>ABW</td>\n",
       "      <td>314</td>\n",
       "      <td>aruba</td>\n",
       "      <td>Index</td>\n",
       "      <td>Headline Consumer Price</td>\n",
       "      <td>197002</td>\n",
       "      <td>197002.0</td>\n",
       "      <td>0.0</td>\n",
       "      <td>Advanced</td>\n",
       "      <td>1970.0</td>\n",
       "      <td>2.0</td>\n",
       "      <td>1.0</td>\n",
       "      <td>index</td>\n",
       "      <td>Headline Consumer Price</td>\n",
       "      <td>19701</td>\n",
       "      <td>0.0</td>\n",
       "      <td>Inflation</td>\n",
       "      <td>Headline Consumer Price</td>\n",
       "      <td>1970.0</td>\n",
       "      <td>0.0</td>\n",
       "    </tr>\n",
       "    <tr>\n",
       "      <th>2</th>\n",
       "      <td>ABW</td>\n",
       "      <td>314</td>\n",
       "      <td>aruba</td>\n",
       "      <td>Index</td>\n",
       "      <td>Headline Consumer Price</td>\n",
       "      <td>197003</td>\n",
       "      <td>197003.0</td>\n",
       "      <td>0.0</td>\n",
       "      <td>Advanced</td>\n",
       "      <td>1970.0</td>\n",
       "      <td>3.0</td>\n",
       "      <td>1.0</td>\n",
       "      <td>index</td>\n",
       "      <td>Headline Consumer Price</td>\n",
       "      <td>19701</td>\n",
       "      <td>0.0</td>\n",
       "      <td>Inflation</td>\n",
       "      <td>Headline Consumer Price</td>\n",
       "      <td>1970.0</td>\n",
       "      <td>0.0</td>\n",
       "    </tr>\n",
       "    <tr>\n",
       "      <th>3</th>\n",
       "      <td>ABW</td>\n",
       "      <td>314</td>\n",
       "      <td>aruba</td>\n",
       "      <td>Index</td>\n",
       "      <td>Headline Consumer Price</td>\n",
       "      <td>197004</td>\n",
       "      <td>197004.0</td>\n",
       "      <td>0.0</td>\n",
       "      <td>Advanced</td>\n",
       "      <td>1970.0</td>\n",
       "      <td>4.0</td>\n",
       "      <td>2.0</td>\n",
       "      <td>index</td>\n",
       "      <td>Headline Consumer Price</td>\n",
       "      <td>19702</td>\n",
       "      <td>0.0</td>\n",
       "      <td>Inflation</td>\n",
       "      <td>Headline Consumer Price</td>\n",
       "      <td>1970.0</td>\n",
       "      <td>0.0</td>\n",
       "    </tr>\n",
       "    <tr>\n",
       "      <th>4</th>\n",
       "      <td>ABW</td>\n",
       "      <td>314</td>\n",
       "      <td>aruba</td>\n",
       "      <td>Index</td>\n",
       "      <td>Headline Consumer Price</td>\n",
       "      <td>197005</td>\n",
       "      <td>197005.0</td>\n",
       "      <td>0.0</td>\n",
       "      <td>Advanced</td>\n",
       "      <td>1970.0</td>\n",
       "      <td>5.0</td>\n",
       "      <td>2.0</td>\n",
       "      <td>index</td>\n",
       "      <td>Headline Consumer Price</td>\n",
       "      <td>19702</td>\n",
       "      <td>0.0</td>\n",
       "      <td>Inflation</td>\n",
       "      <td>Headline Consumer Price</td>\n",
       "      <td>1970.0</td>\n",
       "      <td>0.0</td>\n",
       "    </tr>\n",
       "  </tbody>\n",
       "</table>\n",
       "</div>"
      ],
      "text/plain": [
       "  Country Code  IMF Country Code Country Indicator Type_x  \\\n",
       "0          ABW               314   aruba            Index   \n",
       "1          ABW               314   aruba            Index   \n",
       "2          ABW               314   aruba            Index   \n",
       "3          ABW               314   aruba            Index   \n",
       "4          ABW               314   aruba            Index   \n",
       "\n",
       "         Series Name Month  Year_x     Month  monthly_metric    income  \\\n",
       "0  Headline Consumer Price  197001  197001.0             0.0  Advanced   \n",
       "1  Headline Consumer Price  197002  197002.0             0.0  Advanced   \n",
       "2  Headline Consumer Price  197003  197003.0             0.0  Advanced   \n",
       "3  Headline Consumer Price  197004  197004.0             0.0  Advanced   \n",
       "4  Headline Consumer Price  197005  197005.0             0.0  Advanced   \n",
       "\n",
       "        Y    M    Q Indicator Type_y      Series Name Quarter Year_y  \\\n",
       "0  1970.0  1.0  1.0            index  Headline Consumer Price  19701   \n",
       "1  1970.0  2.0  1.0            index  Headline Consumer Price  19701   \n",
       "2  1970.0  3.0  1.0            index  Headline Consumer Price  19701   \n",
       "3  1970.0  4.0  2.0            index  Headline Consumer Price  19702   \n",
       "4  1970.0  5.0  2.0            index  Headline Consumer Price  19702   \n",
       "\n",
       "   quaterly_metric Indicator Type         Series Name Year    Year  \\\n",
       "0              0.0      Inflation  Headline Consumer Price  1970.0   \n",
       "1              0.0      Inflation  Headline Consumer Price  1970.0   \n",
       "2              0.0      Inflation  Headline Consumer Price  1970.0   \n",
       "3              0.0      Inflation  Headline Consumer Price  1970.0   \n",
       "4              0.0      Inflation  Headline Consumer Price  1970.0   \n",
       "\n",
       "   annual_metric  \n",
       "0            0.0  \n",
       "1            0.0  \n",
       "2            0.0  \n",
       "3            0.0  \n",
       "4            0.0  "
      ]
     },
     "execution_count": 190,
     "metadata": {},
     "output_type": "execute_result"
    }
   ],
   "source": [
    "# import numpy as np\n",
    "# conditions = [\n",
    "#     (final_df['Country'].isin(LIC)),\n",
    "#     (final_df['Country'].isin(EMDE)),\n",
    "#     (final_df['Country'].isin(Advanced)),\n",
    "#     (final_df['Country'] == 'other')\n",
    "# ]\n",
    "\n",
    "# values = ['LIC', 'EMDE', 'Advanced', 'other']\n",
    "\n",
    "# final_df['income'] = np.select(conditions, values)\n",
    "\n",
    "# final_df.head()"
   ]
  },
  {
   "cell_type": "code",
   "execution_count": 191,
   "id": "c821c11a-0c7b-4bb1-bd46-fc86db76108c",
   "metadata": {
    "execution": {
     "iopub.execute_input": "2022-04-27T11:02:03.151038Z",
     "iopub.status.busy": "2022-04-27T11:02:03.150706Z",
     "iopub.status.idle": "2022-04-27T11:02:03.364835Z",
     "shell.execute_reply": "2022-04-27T11:02:03.364124Z",
     "shell.execute_reply.started": "2022-04-27T11:02:03.151005Z"
    },
    "tags": []
   },
   "outputs": [
    {
     "data": {
      "text/plain": [
       "Series([], Name: Country, dtype: int64)"
      ]
     },
     "execution_count": 191,
     "metadata": {},
     "output_type": "execute_result"
    }
   ],
   "source": [
    "final_df.query(\"income == '0'\")['Country'].value_counts()"
   ]
  },
  {
   "cell_type": "code",
   "execution_count": 192,
   "id": "6781337f-0e8e-42e6-a584-572bd587f607",
   "metadata": {
    "execution": {
     "iopub.execute_input": "2022-04-27T11:02:07.496111Z",
     "iopub.status.busy": "2022-04-27T11:02:07.495774Z",
     "iopub.status.idle": "2022-04-27T11:02:07.547684Z",
     "shell.execute_reply": "2022-04-27T11:02:07.546744Z",
     "shell.execute_reply.started": "2022-04-27T11:02:07.496079Z"
    },
    "tags": []
   },
   "outputs": [
    {
     "data": {
      "text/plain": [
       "EMDE        328082\n",
       "Advanced    229803\n",
       "LIC          49525\n",
       "Name: income, dtype: int64"
      ]
     },
     "execution_count": 192,
     "metadata": {},
     "output_type": "execute_result"
    }
   ],
   "source": [
    "final_df.income.value_counts()"
   ]
  },
  {
   "cell_type": "code",
   "execution_count": 193,
   "id": "eb257f09-135d-419a-81b6-cf16896d216e",
   "metadata": {
    "execution": {
     "iopub.execute_input": "2022-04-27T11:02:09.956213Z",
     "iopub.status.busy": "2022-04-27T11:02:09.955890Z",
     "iopub.status.idle": "2022-04-27T11:05:45.481479Z",
     "shell.execute_reply": "2022-04-27T11:05:45.480442Z",
     "shell.execute_reply.started": "2022-04-27T11:02:09.956185Z"
    },
    "tags": []
   },
   "outputs": [],
   "source": [
    "final_df.to_excel(\"Global_YQM.xlsx\")"
   ]
  },
  {
   "cell_type": "code",
   "execution_count": null,
   "id": "2b698876-736d-4bd6-86a0-df43749b8bb8",
   "metadata": {},
   "outputs": [],
   "source": []
  }
 ],
 "metadata": {
  "kernelspec": {
   "display_name": "Python 3 (ipykernel)",
   "language": "python",
   "name": "python3"
  },
  "language_info": {
   "codemirror_mode": {
    "name": "ipython",
    "version": 3
   },
   "file_extension": ".py",
   "mimetype": "text/x-python",
   "name": "python",
   "nbconvert_exporter": "python",
   "pygments_lexer": "ipython3",
   "version": "3.9.6"
  }
 },
 "nbformat": 4,
 "nbformat_minor": 5
}
